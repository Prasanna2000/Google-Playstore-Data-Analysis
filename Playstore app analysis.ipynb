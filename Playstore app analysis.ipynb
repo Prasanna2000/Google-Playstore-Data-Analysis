{
 "cells": [
  {
   "cell_type": "markdown",
   "metadata": {},
   "source": [
    "# Google Play Store Apps data Analysis\n",
    "\n",
    "Author: Prasanna Rahavendra A [Github](https://github.com/Prasanna2000), [Linkedin](https://www.linkedin.com/in/prasanna-rahavendra-33323218b/), [Kaggle](https://www.kaggle.com/apr2000).\n",
    "\n",
    "\n",
    "The Google Play Store Apps dataset obtained from [this kaggle page](https://www.kaggle.com/lava18/google-play-store-apps?select=googleplaystore_user_reviews.csv) is analyzed. It was exciting to deep dive into the dataset!<br> This exploratory data analysis and visualization enable us to have a lot of insights about the data. This will be an asset to app developers and companies.<br>\n",
    "I have used python packages ```numpy```, ```pandas```, ```matplotlib``` and ```seaborn``` for this dataset.<br>\n",
    "\n"
   ]
  },
  {
   "cell_type": "markdown",
   "metadata": {},
   "source": [
    "# Importing necessary packages"
   ]
  },
  {
   "cell_type": "code",
   "execution_count": 1,
   "metadata": {},
   "outputs": [],
   "source": [
    "#importing necessary packages\n",
    "import numpy as np\n",
    "import pandas as pd\n",
    "import matplotlib.pyplot as plt\n",
    "import seaborn as sns\n",
    "\n",
    "#setting the plot style to seaborn \"darkgrid\" style.\n",
    "sns.set_style(\"darkgrid\")"
   ]
  },
  {
   "cell_type": "markdown",
   "metadata": {},
   "source": [
    "## Data Preparation and Cleaning\n",
    "\n",
    "In this section, we load the dataset using ```pandas``` and follow a few pre-processing steps to correct the errors and mis-matches in the dataset. This preparation will make the data suitable for analysis."
   ]
  },
  {
   "cell_type": "code",
   "execution_count": 2,
   "metadata": {},
   "outputs": [
    {
     "data": {
      "text/html": [
       "<div>\n",
       "<style scoped>\n",
       "    .dataframe tbody tr th:only-of-type {\n",
       "        vertical-align: middle;\n",
       "    }\n",
       "\n",
       "    .dataframe tbody tr th {\n",
       "        vertical-align: top;\n",
       "    }\n",
       "\n",
       "    .dataframe thead th {\n",
       "        text-align: right;\n",
       "    }\n",
       "</style>\n",
       "<table border=\"1\" class=\"dataframe\">\n",
       "  <thead>\n",
       "    <tr style=\"text-align: right;\">\n",
       "      <th></th>\n",
       "      <th>App</th>\n",
       "      <th>Category</th>\n",
       "      <th>Rating</th>\n",
       "      <th>Reviews</th>\n",
       "      <th>Size</th>\n",
       "      <th>Installs</th>\n",
       "      <th>Type</th>\n",
       "      <th>Price</th>\n",
       "      <th>Content Rating</th>\n",
       "      <th>Genres</th>\n",
       "      <th>Last Updated</th>\n",
       "      <th>Current Ver</th>\n",
       "      <th>Android Ver</th>\n",
       "    </tr>\n",
       "  </thead>\n",
       "  <tbody>\n",
       "    <tr>\n",
       "      <th>0</th>\n",
       "      <td>Photo Editor &amp; Candy Camera &amp; Grid &amp; ScrapBook</td>\n",
       "      <td>ART_AND_DESIGN</td>\n",
       "      <td>4.1</td>\n",
       "      <td>159</td>\n",
       "      <td>19M</td>\n",
       "      <td>10,000+</td>\n",
       "      <td>Free</td>\n",
       "      <td>0</td>\n",
       "      <td>Everyone</td>\n",
       "      <td>Art &amp; Design</td>\n",
       "      <td>January 7, 2018</td>\n",
       "      <td>1.00.00</td>\n",
       "      <td>4.0.3 and up</td>\n",
       "    </tr>\n",
       "    <tr>\n",
       "      <th>1</th>\n",
       "      <td>Coloring book moana</td>\n",
       "      <td>ART_AND_DESIGN</td>\n",
       "      <td>3.9</td>\n",
       "      <td>967</td>\n",
       "      <td>14M</td>\n",
       "      <td>500,000+</td>\n",
       "      <td>Free</td>\n",
       "      <td>0</td>\n",
       "      <td>Everyone</td>\n",
       "      <td>Art &amp; Design;Pretend Play</td>\n",
       "      <td>January 15, 2018</td>\n",
       "      <td>2.00.00</td>\n",
       "      <td>4.0.3 and up</td>\n",
       "    </tr>\n",
       "    <tr>\n",
       "      <th>2</th>\n",
       "      <td>U Launcher Lite – FREE Live Cool Themes, Hide ...</td>\n",
       "      <td>ART_AND_DESIGN</td>\n",
       "      <td>4.7</td>\n",
       "      <td>87510</td>\n",
       "      <td>8.7M</td>\n",
       "      <td>5,000,000+</td>\n",
       "      <td>Free</td>\n",
       "      <td>0</td>\n",
       "      <td>Everyone</td>\n",
       "      <td>Art &amp; Design</td>\n",
       "      <td>August 1, 2018</td>\n",
       "      <td>1.02.04</td>\n",
       "      <td>4.0.3 and up</td>\n",
       "    </tr>\n",
       "    <tr>\n",
       "      <th>3</th>\n",
       "      <td>Sketch - Draw &amp; Paint</td>\n",
       "      <td>ART_AND_DESIGN</td>\n",
       "      <td>4.5</td>\n",
       "      <td>215644</td>\n",
       "      <td>25M</td>\n",
       "      <td>50,000,000+</td>\n",
       "      <td>Free</td>\n",
       "      <td>0</td>\n",
       "      <td>Teen</td>\n",
       "      <td>Art &amp; Design</td>\n",
       "      <td>June 8, 2018</td>\n",
       "      <td>Varies with device</td>\n",
       "      <td>4.2 and up</td>\n",
       "    </tr>\n",
       "    <tr>\n",
       "      <th>4</th>\n",
       "      <td>Pixel Draw - Number Art Coloring Book</td>\n",
       "      <td>ART_AND_DESIGN</td>\n",
       "      <td>4.3</td>\n",
       "      <td>967</td>\n",
       "      <td>2.8M</td>\n",
       "      <td>100,000+</td>\n",
       "      <td>Free</td>\n",
       "      <td>0</td>\n",
       "      <td>Everyone</td>\n",
       "      <td>Art &amp; Design;Creativity</td>\n",
       "      <td>June 20, 2018</td>\n",
       "      <td>1.1</td>\n",
       "      <td>4.4 and up</td>\n",
       "    </tr>\n",
       "  </tbody>\n",
       "</table>\n",
       "</div>"
      ],
      "text/plain": [
       "                                                 App        Category  Rating  \\\n",
       "0     Photo Editor & Candy Camera & Grid & ScrapBook  ART_AND_DESIGN     4.1   \n",
       "1                                Coloring book moana  ART_AND_DESIGN     3.9   \n",
       "2  U Launcher Lite – FREE Live Cool Themes, Hide ...  ART_AND_DESIGN     4.7   \n",
       "3                              Sketch - Draw & Paint  ART_AND_DESIGN     4.5   \n",
       "4              Pixel Draw - Number Art Coloring Book  ART_AND_DESIGN     4.3   \n",
       "\n",
       "   Reviews  Size     Installs  Type Price Content Rating  \\\n",
       "0      159   19M      10,000+  Free     0       Everyone   \n",
       "1      967   14M     500,000+  Free     0       Everyone   \n",
       "2    87510  8.7M   5,000,000+  Free     0       Everyone   \n",
       "3   215644   25M  50,000,000+  Free     0           Teen   \n",
       "4      967  2.8M     100,000+  Free     0       Everyone   \n",
       "\n",
       "                      Genres      Last Updated         Current Ver  \\\n",
       "0               Art & Design   January 7, 2018             1.00.00   \n",
       "1  Art & Design;Pretend Play  January 15, 2018             2.00.00   \n",
       "2               Art & Design    August 1, 2018             1.02.04   \n",
       "3               Art & Design      June 8, 2018  Varies with device   \n",
       "4    Art & Design;Creativity     June 20, 2018                 1.1   \n",
       "\n",
       "    Android Ver  \n",
       "0  4.0.3 and up  \n",
       "1  4.0.3 and up  \n",
       "2  4.0.3 and up  \n",
       "3    4.2 and up  \n",
       "4    4.4 and up  "
      ]
     },
     "execution_count": 2,
     "metadata": {},
     "output_type": "execute_result"
    }
   ],
   "source": [
    "apps_df = apps_df = pd.read_csv(\"googleplaystore.csv\")\n",
    "apps_df.head()"
   ]
  },
  {
   "cell_type": "markdown",
   "metadata": {},
   "source": [
    "we use the ```pandas``` method ```.read_csv()``` to read in the csv dataset.<br>\n",
    "The ```.head()``` method helps us view the first few rows of the dataset."
   ]
  },
  {
   "cell_type": "code",
   "execution_count": 3,
   "metadata": {},
   "outputs": [
    {
     "data": {
      "text/plain": [
       "(10841, 13)"
      ]
     },
     "execution_count": 3,
     "metadata": {},
     "output_type": "execute_result"
    }
   ],
   "source": [
    "apps_df.shape"
   ]
  },
  {
   "cell_type": "markdown",
   "metadata": {},
   "source": [
    "From the ```.shape``` attribute of the DataFrame, we can see that the un-processed dataset has 10841 rows and 13 columns."
   ]
  },
  {
   "cell_type": "markdown",
   "metadata": {},
   "source": [
    "To view the all the columns' names, count of non-null values and datatype of columns, we use the ```.info()``` method on the DataFrame."
   ]
  },
  {
   "cell_type": "code",
   "execution_count": 4,
   "metadata": {},
   "outputs": [
    {
     "name": "stdout",
     "output_type": "stream",
     "text": [
      "<class 'pandas.core.frame.DataFrame'>\n",
      "RangeIndex: 10841 entries, 0 to 10840\n",
      "Data columns (total 13 columns):\n",
      " #   Column          Non-Null Count  Dtype  \n",
      "---  ------          --------------  -----  \n",
      " 0   App             10841 non-null  object \n",
      " 1   Category        10841 non-null  object \n",
      " 2   Rating          9367 non-null   float64\n",
      " 3   Reviews         10841 non-null  int64  \n",
      " 4   Size            10841 non-null  object \n",
      " 5   Installs        10841 non-null  object \n",
      " 6   Type            10840 non-null  object \n",
      " 7   Price           10841 non-null  object \n",
      " 8   Content Rating  10841 non-null  object \n",
      " 9   Genres          10840 non-null  object \n",
      " 10  Last Updated    10841 non-null  object \n",
      " 11  Current Ver     10833 non-null  object \n",
      " 12  Android Ver     10839 non-null  object \n",
      "dtypes: float64(1), int64(1), object(11)\n",
      "memory usage: 1.1+ MB\n"
     ]
    }
   ],
   "source": [
    "apps_df.info()"
   ]
  },
  {
   "cell_type": "markdown",
   "metadata": {},
   "source": [
    "We can see that there are some missing values in few columns. Also, the datatype of all the columns except one, is an Object. We must replace the missing values and convert the columns to their respective datatypes."
   ]
  },
  {
   "cell_type": "markdown",
   "metadata": {},
   "source": [
    "Upon inspection of the dataset, it was found that the ```Rating``` column, of ```float``` datatype had some missing values. We fill them with zeros.<br><br>\n",
    "Also, the ```Type``` column, which says if the app is free or not had one missing value. The app that had the type missing was ```Command & Conquer: Rivals```. When the details of the app was verified in Play Store, it was found to be of type ```Free```. so we set it as ```Free```."
   ]
  },
  {
   "cell_type": "code",
   "execution_count": 5,
   "metadata": {},
   "outputs": [
    {
     "data": {
      "text/plain": [
       "9148    Command & Conquer: Rivals\n",
       "Name: App, dtype: object"
      ]
     },
     "execution_count": 5,
     "metadata": {},
     "output_type": "execute_result"
    }
   ],
   "source": [
    "apps_df[apps_df[\"Type\"].isna()][\"App\"]"
   ]
  },
  {
   "cell_type": "markdown",
   "metadata": {},
   "source": [
    "We use the ```.isna()``` method on the column to get a boolean mask. Upon applying the boolean mask on the dataset, we retrieve the app's name stored in the ```App``` column."
   ]
  },
  {
   "cell_type": "code",
   "execution_count": 6,
   "metadata": {},
   "outputs": [
    {
     "name": "stdout",
     "output_type": "stream",
     "text": [
      "<class 'pandas.core.frame.DataFrame'>\n",
      "RangeIndex: 10841 entries, 0 to 10840\n",
      "Data columns (total 13 columns):\n",
      " #   Column          Non-Null Count  Dtype  \n",
      "---  ------          --------------  -----  \n",
      " 0   App             10841 non-null  object \n",
      " 1   Category        10841 non-null  object \n",
      " 2   Rating          10841 non-null  float64\n",
      " 3   Reviews         10841 non-null  int64  \n",
      " 4   Size            10841 non-null  object \n",
      " 5   Installs        10841 non-null  object \n",
      " 6   Type            10841 non-null  object \n",
      " 7   Price           10841 non-null  object \n",
      " 8   Content Rating  10841 non-null  object \n",
      " 9   Genres          10840 non-null  object \n",
      " 10  Last Updated    10841 non-null  object \n",
      " 11  Current Ver     10833 non-null  object \n",
      " 12  Android Ver     10839 non-null  object \n",
      "dtypes: float64(1), int64(1), object(11)\n",
      "memory usage: 1.1+ MB\n"
     ]
    }
   ],
   "source": [
    "# Filling nan values in rating column with zeros, Type column with Free and Content Rating column to Everyone\n",
    "apps_df[\"Rating\"].fillna(0,inplace=True)\n",
    "apps_df[\"Type\"].fillna(\"Free\",inplace=True)\n",
    "apps_df.info()"
   ]
  },
  {
   "cell_type": "markdown",
   "metadata": {},
   "source": [
    "We use the ```.fillna()``` method on the column to fill the missing (NaN) values with the corresponding value. The first parameter we pass is the value that is used to fill the missing values or the \"Holes\" as the pandas documentation calls it.<br> The second parameter here ```inplace = True``` says that we need to alter the existing dataset. If this parameter is set to ```False```, then the ```.fillna()``` method will only alter and return a copy of the original DataFrame and the original DataFrame will be left untouched.<br><br> The other options to get rid of missing values are: <br>1. We can also replace the missing values either by the mean, median, mode or standard deviation of the column if that column is of numerical type or else we can fill it be the maximum count of the column, if it is of type string and has only a few unique values. <br>2. ```.dropna()``` method: This just drops all rows/columns that have missing values (We can specify if we need to remove the rows or the columns that have the missing value)."
   ]
  },
  {
   "cell_type": "markdown",
   "metadata": {},
   "source": [
    "The ```Reviews``` column of the DataFrame is actually of type ```int``` but was wrongly read a ```string``` object. We convert the datatype of this column using the ```.astype()``` method. We pass the datatype to which the column need be converted as it's parameter."
   ]
  },
  {
   "cell_type": "code",
   "execution_count": 7,
   "metadata": {},
   "outputs": [
    {
     "name": "stdout",
     "output_type": "stream",
     "text": [
      "<class 'pandas.core.frame.DataFrame'>\n",
      "RangeIndex: 10841 entries, 0 to 10840\n",
      "Data columns (total 13 columns):\n",
      " #   Column          Non-Null Count  Dtype  \n",
      "---  ------          --------------  -----  \n",
      " 0   App             10841 non-null  object \n",
      " 1   Category        10841 non-null  object \n",
      " 2   Rating          10841 non-null  float64\n",
      " 3   Reviews         10841 non-null  int64  \n",
      " 4   Size            10841 non-null  object \n",
      " 5   Installs        10841 non-null  object \n",
      " 6   Type            10841 non-null  object \n",
      " 7   Price           10841 non-null  object \n",
      " 8   Content Rating  10841 non-null  object \n",
      " 9   Genres          10840 non-null  object \n",
      " 10  Last Updated    10841 non-null  object \n",
      " 11  Current Ver     10833 non-null  object \n",
      " 12  Android Ver     10839 non-null  object \n",
      "dtypes: float64(1), int64(1), object(11)\n",
      "memory usage: 1.1+ MB\n"
     ]
    }
   ],
   "source": [
    "apps_df[\"Reviews\"] = apps_df[\"Reviews\"].astype(np.int64)\n",
    "apps_df.info()"
   ]
  },
  {
   "cell_type": "markdown",
   "metadata": {},
   "source": [
    "We can see that all the columns except ```Current Ver``` and ```Android Ver``` has no missing values.<br> The ```Current Ver``` column of the DataFrame specifies the current version of the app and ```Android Ver``` specifies the lowest android level that the app can run. This is not of much use to us. So we remove those columns."
   ]
  },
  {
   "cell_type": "code",
   "execution_count": 8,
   "metadata": {},
   "outputs": [
    {
     "data": {
      "text/plain": [
       "(10841, 11)"
      ]
     },
     "execution_count": 8,
     "metadata": {},
     "output_type": "execute_result"
    }
   ],
   "source": [
    "apps_df.drop([\"Current Ver\",\"Android Ver\"],1,inplace = True)\n",
    "apps_df.shape"
   ]
  },
  {
   "cell_type": "markdown",
   "metadata": {},
   "source": [
    "We use the ```.drop()``` method of the DataFrame. The first parameter is the columns we need to drop. The second parameter specifies the asix we need to drop. ```0``` for dropping rows and ```1``` for dropping cloumns. Again, here we pass the argument ```inplace = True``` to tell pandas that we need to alter the original DataFrame."
   ]
  },
  {
   "cell_type": "markdown",
   "metadata": {},
   "source": [
    "There seems to be many repetitions of the same app. We need to remove them as they can totally change the results of our analysis.\n",
    "\n",
    "We use the ```.drop_duplicates()``` method of the DataFrame to remove the duplicates. The first parameter is the key upon which the removal is done. We remove the repetitions based on the App's name. \n",
    "As we can see there were nearly 1181 repeated apps. Here, we pass the argument ```inplace = True``` to tell pandas that we need to alter the original DataFrame."
   ]
  },
  {
   "cell_type": "code",
   "execution_count": 9,
   "metadata": {},
   "outputs": [
    {
     "name": "stdout",
     "output_type": "stream",
     "text": [
      "<class 'pandas.core.frame.DataFrame'>\n",
      "Int64Index: 9660 entries, 0 to 10840\n",
      "Data columns (total 11 columns):\n",
      " #   Column          Non-Null Count  Dtype  \n",
      "---  ------          --------------  -----  \n",
      " 0   App             9660 non-null   object \n",
      " 1   Category        9660 non-null   object \n",
      " 2   Rating          9660 non-null   float64\n",
      " 3   Reviews         9660 non-null   int64  \n",
      " 4   Size            9660 non-null   object \n",
      " 5   Installs        9660 non-null   object \n",
      " 6   Type            9660 non-null   object \n",
      " 7   Price           9660 non-null   object \n",
      " 8   Content Rating  9660 non-null   object \n",
      " 9   Genres          9659 non-null   object \n",
      " 10  Last Updated    9660 non-null   object \n",
      "dtypes: float64(1), int64(1), object(9)\n",
      "memory usage: 905.6+ KB\n"
     ]
    }
   ],
   "source": [
    "apps_df.drop_duplicates(\"App\",inplace=True)\n",
    "apps_df.info()"
   ]
  },
  {
   "cell_type": "markdown",
   "metadata": {},
   "source": [
    "The ```Installs``` column specifies the average number of installations of a given app. This is actually a number but since there are commas separating the digits, it is wrongly identified as a ```string```. We write a helper function of our own to convert it into integers. This function ```parse_int()``` takes a comma separated number, removes the commas, converts the number to ```int``` and returns it.<br>\n",
    "Then we apply this function on the ```Installs``` column by using the ```.apply()``` method. This method takes the function that needs to be applied on the specified column."
   ]
  },
  {
   "cell_type": "code",
   "execution_count": 10,
   "metadata": {},
   "outputs": [
    {
     "name": "stdout",
     "output_type": "stream",
     "text": [
      "<class 'pandas.core.frame.DataFrame'>\n",
      "Int64Index: 9660 entries, 0 to 10840\n",
      "Data columns (total 11 columns):\n",
      " #   Column          Non-Null Count  Dtype  \n",
      "---  ------          --------------  -----  \n",
      " 0   App             9660 non-null   object \n",
      " 1   Category        9660 non-null   object \n",
      " 2   Rating          9660 non-null   float64\n",
      " 3   Reviews         9660 non-null   int64  \n",
      " 4   Size            9660 non-null   object \n",
      " 5   Installs        9660 non-null   int64  \n",
      " 6   Type            9660 non-null   object \n",
      " 7   Price           9660 non-null   object \n",
      " 8   Content Rating  9660 non-null   object \n",
      " 9   Genres          9659 non-null   object \n",
      " 10  Last Updated    9660 non-null   object \n",
      "dtypes: float64(1), int64(2), object(8)\n",
      "memory usage: 905.6+ KB\n"
     ]
    }
   ],
   "source": [
    "def parse_int(row):\n",
    "    val = \"\"\n",
    "    row = row[:-1]\n",
    "    for i in row.split(\",\"):\n",
    "        val = val+i\n",
    "    try:\n",
    "        return int(val)\n",
    "    except:\n",
    "        return 0\n",
    "apps_df[\"Installs\"] = apps_df[\"Installs\"].apply(parse_int)\n",
    "apps_df.info()"
   ]
  },
  {
   "cell_type": "markdown",
   "metadata": {},
   "source": [
    "The ```Price``` column specifies the price of a given app. It is zero if the app type is free or else it has some price value in ```Dollars```. This is actually a floating point number but because there are dollar symbols at the end, they are wrongly identified as strings. We use the ```.apply()``` method and pass in a lambda function to strip off the dollar symbol and convert it into a ```float```. This function ```parse_int()``` takes one comma separated number, removes the commas, converts the number to ```int``` and returns it.<br>\n",
    "Then we apply this function on the ```Installs``` column by using the ```.apply()``` method. This method takes the function that needs to be applied on the specified column."
   ]
  },
  {
   "cell_type": "code",
   "execution_count": 11,
   "metadata": {},
   "outputs": [
    {
     "name": "stdout",
     "output_type": "stream",
     "text": [
      "<class 'pandas.core.frame.DataFrame'>\n",
      "Int64Index: 9660 entries, 0 to 10840\n",
      "Data columns (total 11 columns):\n",
      " #   Column          Non-Null Count  Dtype  \n",
      "---  ------          --------------  -----  \n",
      " 0   App             9660 non-null   object \n",
      " 1   Category        9660 non-null   object \n",
      " 2   Rating          9660 non-null   float64\n",
      " 3   Reviews         9660 non-null   int64  \n",
      " 4   Size            9660 non-null   object \n",
      " 5   Installs        9660 non-null   int64  \n",
      " 6   Type            9660 non-null   object \n",
      " 7   Price           9660 non-null   float64\n",
      " 8   Content Rating  9660 non-null   object \n",
      " 9   Genres          9659 non-null   object \n",
      " 10  Last Updated    9660 non-null   object \n",
      "dtypes: float64(2), int64(2), object(7)\n",
      "memory usage: 905.6+ KB\n"
     ]
    }
   ],
   "source": [
    "apps_df[\"Price\"] = apps_df[\"Price\"].apply(lambda string:float(string[1:]) if string!=\"0\" else 0.0)\n",
    "apps_df.info()"
   ]
  },
  {
   "cell_type": "markdown",
   "metadata": {},
   "source": [
    "The ```Category``` and ```Genres``` columns have the same information. Having both these columns are a waste of memory resource, hence we remove the ```Genres``` column.<br><br>We again use the ```.drop()``` method to drop this column. We specify the column name, the axis that needs to be dropped (Row $\\rightarrow$ 0/Column $\\rightarrow$ 1). We also specify ```inplace = True``` to drop the column from the original DataFrame."
   ]
  },
  {
   "cell_type": "code",
   "execution_count": 12,
   "metadata": {},
   "outputs": [
    {
     "name": "stdout",
     "output_type": "stream",
     "text": [
      "<class 'pandas.core.frame.DataFrame'>\n",
      "Int64Index: 9660 entries, 0 to 10840\n",
      "Data columns (total 10 columns):\n",
      " #   Column          Non-Null Count  Dtype  \n",
      "---  ------          --------------  -----  \n",
      " 0   App             9660 non-null   object \n",
      " 1   Category        9660 non-null   object \n",
      " 2   Rating          9660 non-null   float64\n",
      " 3   Reviews         9660 non-null   int64  \n",
      " 4   Size            9660 non-null   object \n",
      " 5   Installs        9660 non-null   int64  \n",
      " 6   Type            9660 non-null   object \n",
      " 7   Price           9660 non-null   float64\n",
      " 8   Content Rating  9660 non-null   object \n",
      " 9   Last Updated    9660 non-null   object \n",
      "dtypes: float64(2), int64(2), object(6)\n",
      "memory usage: 830.2+ KB\n"
     ]
    }
   ],
   "source": [
    "apps_df.drop(\"Genres\",axis = 1 ,inplace=True)\n",
    "apps_df.info()"
   ]
  },
  {
   "cell_type": "markdown",
   "metadata": {},
   "source": [
    "The ```Last Updated``` column says when the app's last update was released. This is actually a date but is inferred as a string. So we convert it into a ```datetime``` object by using the ```pd.to_datetime()``` method. We use the ```.apply()``` to apply this conversion over all the values of the column."
   ]
  },
  {
   "cell_type": "code",
   "execution_count": 13,
   "metadata": {},
   "outputs": [
    {
     "name": "stdout",
     "output_type": "stream",
     "text": [
      "<class 'pandas.core.frame.DataFrame'>\n",
      "Int64Index: 9660 entries, 0 to 10840\n",
      "Data columns (total 10 columns):\n",
      " #   Column          Non-Null Count  Dtype         \n",
      "---  ------          --------------  -----         \n",
      " 0   App             9660 non-null   object        \n",
      " 1   Category        9660 non-null   object        \n",
      " 2   Rating          9660 non-null   float64       \n",
      " 3   Reviews         9660 non-null   int64         \n",
      " 4   Size            9660 non-null   object        \n",
      " 5   Installs        9660 non-null   int64         \n",
      " 6   Type            9660 non-null   object        \n",
      " 7   Price           9660 non-null   float64       \n",
      " 8   Content Rating  9660 non-null   object        \n",
      " 9   Last Updated    9660 non-null   datetime64[ns]\n",
      "dtypes: datetime64[ns](1), float64(2), int64(2), object(5)\n",
      "memory usage: 830.2+ KB\n"
     ]
    }
   ],
   "source": [
    "apps_df[\"Last Updated\"] = apps_df[\"Last Updated\"].apply(pd.to_datetime)\n",
    "apps_df.info()"
   ]
  },
  {
   "cell_type": "markdown",
   "metadata": {},
   "source": [
    "Finally we have 9660 rows corresponding to 9660 different apps and 10 columns corresponding to,\n",
    "<ol>\n",
    "    <li>App's name.\n",
    "    <li>App's Category.\n",
    "    <li>App's Rating.\n",
    "    <li>Number of Reviews for the app.\n",
    "    <li>Overall rating for the app.\n",
    "    <li>File size of the app.\n",
    "    <li>Average number of installations of the app.\n",
    "    <li>Type of the app (Paid/Free).\n",
    "    <li>Content Rating of the app.\n",
    "    <li>The date when the app's last update was released.\n",
    "</ol>\n",
    "\n",
    "We would be doing the whole data analysis over this pre-processed dataset.\n"
   ]
  },
  {
   "cell_type": "markdown",
   "metadata": {},
   "source": [
    "## Exploratory Analysis and Visualization\n",
    "\n",
    "Once the dataset has been cleaned and pre-processed, we can start analysing the data. We use pandas and numpy for textual analysis and Matplotlib and Seaborn for visualization."
   ]
  },
  {
   "cell_type": "markdown",
   "metadata": {},
   "source": [
    "We use the ```.describe()``` method on the DataFrame. This prints a new DataFrame containing descriptive statistics like ```count```, ```mean```, ```standard deviation```, the ```minimum``` and the ```maximum``` values and the 25$^{th}$, 50$^{th}$ and 75$^{th}$ percentiles for the numeric columns in the DataFrame."
   ]
  },
  {
   "cell_type": "code",
   "execution_count": 14,
   "metadata": {},
   "outputs": [
    {
     "data": {
      "text/html": [
       "<div>\n",
       "<style scoped>\n",
       "    .dataframe tbody tr th:only-of-type {\n",
       "        vertical-align: middle;\n",
       "    }\n",
       "\n",
       "    .dataframe tbody tr th {\n",
       "        vertical-align: top;\n",
       "    }\n",
       "\n",
       "    .dataframe thead th {\n",
       "        text-align: right;\n",
       "    }\n",
       "</style>\n",
       "<table border=\"1\" class=\"dataframe\">\n",
       "  <thead>\n",
       "    <tr style=\"text-align: right;\">\n",
       "      <th></th>\n",
       "      <th>Rating</th>\n",
       "      <th>Reviews</th>\n",
       "      <th>Installs</th>\n",
       "      <th>Price</th>\n",
       "    </tr>\n",
       "  </thead>\n",
       "  <tbody>\n",
       "    <tr>\n",
       "      <th>count</th>\n",
       "      <td>9660.000000</td>\n",
       "      <td>9.660000e+03</td>\n",
       "      <td>9.660000e+03</td>\n",
       "      <td>9660.000000</td>\n",
       "    </tr>\n",
       "    <tr>\n",
       "      <th>mean</th>\n",
       "      <td>3.540973</td>\n",
       "      <td>2.165701e+05</td>\n",
       "      <td>7.776702e+06</td>\n",
       "      <td>1.099185</td>\n",
       "    </tr>\n",
       "    <tr>\n",
       "      <th>std</th>\n",
       "      <td>1.575740</td>\n",
       "      <td>1.831226e+06</td>\n",
       "      <td>5.375555e+07</td>\n",
       "      <td>16.851283</td>\n",
       "    </tr>\n",
       "    <tr>\n",
       "      <th>min</th>\n",
       "      <td>0.000000</td>\n",
       "      <td>0.000000e+00</td>\n",
       "      <td>0.000000e+00</td>\n",
       "      <td>0.000000</td>\n",
       "    </tr>\n",
       "    <tr>\n",
       "      <th>25%</th>\n",
       "      <td>3.600000</td>\n",
       "      <td>2.500000e+01</td>\n",
       "      <td>1.000000e+03</td>\n",
       "      <td>0.000000</td>\n",
       "    </tr>\n",
       "    <tr>\n",
       "      <th>50%</th>\n",
       "      <td>4.200000</td>\n",
       "      <td>9.670000e+02</td>\n",
       "      <td>1.000000e+05</td>\n",
       "      <td>0.000000</td>\n",
       "    </tr>\n",
       "    <tr>\n",
       "      <th>75%</th>\n",
       "      <td>4.500000</td>\n",
       "      <td>2.939400e+04</td>\n",
       "      <td>1.000000e+06</td>\n",
       "      <td>0.000000</td>\n",
       "    </tr>\n",
       "    <tr>\n",
       "      <th>max</th>\n",
       "      <td>5.000000</td>\n",
       "      <td>7.815831e+07</td>\n",
       "      <td>1.000000e+09</td>\n",
       "      <td>400.000000</td>\n",
       "    </tr>\n",
       "  </tbody>\n",
       "</table>\n",
       "</div>"
      ],
      "text/plain": [
       "            Rating       Reviews      Installs        Price\n",
       "count  9660.000000  9.660000e+03  9.660000e+03  9660.000000\n",
       "mean      3.540973  2.165701e+05  7.776702e+06     1.099185\n",
       "std       1.575740  1.831226e+06  5.375555e+07    16.851283\n",
       "min       0.000000  0.000000e+00  0.000000e+00     0.000000\n",
       "25%       3.600000  2.500000e+01  1.000000e+03     0.000000\n",
       "50%       4.200000  9.670000e+02  1.000000e+05     0.000000\n",
       "75%       4.500000  2.939400e+04  1.000000e+06     0.000000\n",
       "max       5.000000  7.815831e+07  1.000000e+09   400.000000"
      ]
     },
     "execution_count": 14,
     "metadata": {},
     "output_type": "execute_result"
    }
   ],
   "source": [
    "apps_df.describe()"
   ]
  },
  {
   "cell_type": "markdown",
   "metadata": {},
   "source": [
    "From the table above we can see that,\n",
    "<li>Almost 75 percent of the apps in the playstore are free. i.e, The 75$^{th}$ percentile of the price is zero. <br>\n",
    "<li>The maximum price of some app on playstore is $400.00 dollars."
   ]
  },
  {
   "cell_type": "code",
   "execution_count": 15,
   "metadata": {},
   "outputs": [
    {
     "data": {
      "text/html": [
       "<div>\n",
       "<style scoped>\n",
       "    .dataframe tbody tr th:only-of-type {\n",
       "        vertical-align: middle;\n",
       "    }\n",
       "\n",
       "    .dataframe tbody tr th {\n",
       "        vertical-align: top;\n",
       "    }\n",
       "\n",
       "    .dataframe thead th {\n",
       "        text-align: right;\n",
       "    }\n",
       "</style>\n",
       "<table border=\"1\" class=\"dataframe\">\n",
       "  <thead>\n",
       "    <tr style=\"text-align: right;\">\n",
       "      <th></th>\n",
       "      <th>App</th>\n",
       "      <th>Category</th>\n",
       "      <th>Rating</th>\n",
       "      <th>Reviews</th>\n",
       "      <th>Size</th>\n",
       "      <th>Installs</th>\n",
       "      <th>Type</th>\n",
       "      <th>Price</th>\n",
       "      <th>Content Rating</th>\n",
       "      <th>Last Updated</th>\n",
       "    </tr>\n",
       "  </thead>\n",
       "  <tbody>\n",
       "    <tr>\n",
       "      <th>4367</th>\n",
       "      <td>I'm Rich - Trump Edition</td>\n",
       "      <td>LIFESTYLE</td>\n",
       "      <td>3.6</td>\n",
       "      <td>275</td>\n",
       "      <td>7.3M</td>\n",
       "      <td>10000</td>\n",
       "      <td>Paid</td>\n",
       "      <td>400.0</td>\n",
       "      <td>Everyone</td>\n",
       "      <td>2018-05-03</td>\n",
       "    </tr>\n",
       "  </tbody>\n",
       "</table>\n",
       "</div>"
      ],
      "text/plain": [
       "                           App   Category  Rating  Reviews  Size  Installs  \\\n",
       "4367  I'm Rich - Trump Edition  LIFESTYLE     3.6      275  7.3M     10000   \n",
       "\n",
       "      Type  Price Content Rating Last Updated  \n",
       "4367  Paid  400.0       Everyone   2018-05-03  "
      ]
     },
     "execution_count": 15,
     "metadata": {},
     "output_type": "execute_result"
    }
   ],
   "source": [
    "apps_df[apps_df[\"Price\"]==400]"
   ]
  },
  {
   "cell_type": "markdown",
   "metadata": {},
   "source": [
    "Using a simple boolean masking on the DataFrame shows that the most expensive app (The one that costs $400.00) is an app called ```I'm Rich - Trump Edition```."
   ]
  },
  {
   "cell_type": "markdown",
   "metadata": {},
   "source": [
    "We now plot the distribution of the prices of paid apps.\n",
    "First, we create a variable called ```paid_apps``` that has only the paid apps and it's features."
   ]
  },
  {
   "cell_type": "code",
   "execution_count": 16,
   "metadata": {},
   "outputs": [],
   "source": [
    "paid_apps = apps_df[apps_df[\"Type\"]==\"Paid\"][\"Price\"]"
   ]
  },
  {
   "cell_type": "markdown",
   "metadata": {},
   "source": [
    "To plot the distribution first we set the size of the plot to be ```10 * 5``` using the ```figsize``` parameter of the ```plt.figure()``` method.\n",
    "Then we call the ```sns.distplot()``` method from Seaborn and pass ```paid_apps``` to it. We also specify a second argument, ```bins = 10```. This will tell Seaborn that the data must be equally split into 10 bins in the plot.<br>\n",
    "we then set the title of the plot using ```plt.title``` method. Using the ```plt.xticks()``` method, we specify the interval for x-axis."
   ]
  },
  {
   "cell_type": "code",
   "execution_count": 17,
   "metadata": {},
   "outputs": [
    {
     "data": {
      "image/png": "[encoded data removed]",
      "text/plain": [
       "<Figure size 720x360 with 1 Axes>"
      ]
     },
     "metadata": {},
     "output_type": "display_data"
    }
   ],
   "source": [
    "plt.figure(figsize=(10,5))\n",
    "sns.distplot(paid_apps,bins=10)\n",
    "plt.title(\"Distribution of the prices of Paid Apps\")\n",
    "plt.xticks(range(0,425,25));"
   ]
  },
  {
   "cell_type": "markdown",
   "metadata": {},
   "source": [
    "<li>From the above histogram, we can see that most of the paid apps' price lies in the first part (in the range from $\\$1$ to ${ \\displaystyle \\approx }$ $\\$$40). i.e. Most paid apps are economically priced.\n",
    "<li> There are also some expensive apps near the end of the plot ranging from ${ \\displaystyle \\approx }$ $\\$$360 to $\\$$400."
   ]
  },
  {
   "cell_type": "markdown",
   "metadata": {},
   "source": [
    "Next we plot the distribution of the app's user ratings. We create a variable called ``` ratings``` that holds the app ratings.\n",
    "\n",
    "We set the size of the plot to be ```10 * 5``` using the ```figsize``` parameter of the ```plt.figure()``` method.\n",
    "Again, we call the ```sns.distplot``` method of Seaborn and pass it the ```ratings``` variable. This creates a distribution plot of the ratings. We specify that ```bins = 20``` as a parameter to this method. This will tell Seaborn that the data must be equally split into 20 bins in the plot. We then specify the title for the plot using the ```plt.title``` method."
   ]
  },
  {
   "cell_type": "code",
   "execution_count": 18,
   "metadata": {},
   "outputs": [
    {
     "data": {
      "image/png": "[encoded data removed]",
      "text/plain": [
       "<Figure size 720x360 with 1 Axes>"
      ]
     },
     "metadata": {},
     "output_type": "display_data"
    }
   ],
   "source": [
    "plt.figure(figsize=(10,5))\n",
    "ratings = apps_df[\"Rating\"]\n",
    "sns.distplot(ratings,bins=20)\n",
    "plt.title(\"Distribution of the App Ratings\");"
   ]
  },
  {
   "cell_type": "markdown",
   "metadata": {},
   "source": [
    "<li>It looks like most of the apps in the Play Store has a rating greater than 3.\n",
    "<li>There are also many apps that have a very low rating between 0 and 1. These might be the apps that the people did not prefer."
   ]
  },
  {
   "cell_type": "markdown",
   "metadata": {},
   "source": [
    "Now we see how the number of installations of the app and the rating of the app is related. To do this, we create a bar plot where the x-axis corresponds to the number of installations and y-axis corresponds to the average rating of all apps that have a certain number of installations.\n",
    "\n",
    "We set the size of the plot to be ```20 * 10``` using the ```figsize``` parameter of the ```plt.figure()``` method. We call the ```sns.barplot()``` method of Seaborn. The first and the second parameters of this method are the name of the columns in our DataFrame that needs to be plotted on the x and y axes correspondingly. i.e. number of installations in the x-axis and app's ratings in the y-axis. We then set the title of the plot using the ```plt.title()``` method. The label for the x-axis can be set using the ```plt.xlabel()``` method. Then we specify the number range for the y-axis."
   ]
  },
  {
   "cell_type": "code",
   "execution_count": 19,
   "metadata": {},
   "outputs": [
    {
     "data": {
      "image/png": "[encoded data removed]",
      "text/plain": [
       "<Figure size 1440x720 with 1 Axes>"
      ]
     },
     "metadata": {},
     "output_type": "display_data"
    }
   ],
   "source": [
    "plt.figure(figsize=(20,10))\n",
    "sns.barplot(\"Installs\",\"Rating\",data=apps_df)\n",
    "plt.title(\"Bar Plot of No. of Installations based on App Rating\")\n",
    "plt.xlabel(\"No. of Installations\")\n",
    "plt.ylim([0,5]);"
   ]
  },
  {
   "cell_type": "markdown",
   "metadata": {},
   "source": [
    "From the above bar plot, it is can be clearly seen that apps that have higher rating also has a higher number of installations."
   ]
  },
  {
   "cell_type": "markdown",
   "metadata": {},
   "source": [
    "Now we see how the number of installations of the app and the type (Pain/Free) of the app is related. To do this, we create a bar plot where the x-axis corresponds to the number of installations and y-axis corresponds to the type of apps.\n",
    "\n",
    "We set the size of the plot to be ```10 * 3``` using the ```figsize``` parameter of the ```plt.figure()``` method. We call the ```sns.barplot()``` method of Seaborn. The first and the second parameters of this method are the name of the columns in our DataFrame that needs to be plotted on the x and y axes correspondingly. i.e. number of installations in the x-axis and type of app in the y-axis. We then set the title of the plot using the ```plt.title()``` method. The label for the x-axis can be set using the ```plt.xlabel()``` method."
   ]
  },
  {
   "cell_type": "code",
   "execution_count": 20,
   "metadata": {},
   "outputs": [
    {
     "data": {
      "image/png": "[encoded data removed]",
      "text/plain": [
       "<Figure size 720x216 with 1 Axes>"
      ]
     },
     "metadata": {},
     "output_type": "display_data"
    }
   ],
   "source": [
    "plt.figure(figsize=(10,3))\n",
    "sns.barplot(\"Installs\",\"Type\",data=apps_df)\n",
    "plt.title(\"Bar Plot of No. of Installations based on the type of app (Paid/ Free)\")\n",
    "plt.xlabel(\"No. of Installations\");"
   ]
  },
  {
   "cell_type": "markdown",
   "metadata": {},
   "source": [
    "It is very clear from the above bar plot that free apps are installed a lot more compared to paid apps."
   ]
  },
  {
   "cell_type": "code",
   "execution_count": 21,
   "metadata": {},
   "outputs": [
    {
     "data": {
      "application/javascript": [
       "window.require && require([\"base/js/namespace\"],function(Jupyter){Jupyter.notebook.save_checkpoint()})"
      ],
      "text/plain": [
       "<IPython.core.display.Javascript object>"
      ]
     },
     "metadata": {},
     "output_type": "display_data"
    },
    {
     "name": "stdout",
     "output_type": "stream",
     "text": [
      "[jovian] Attempting to save notebook..\n",
      "[jovian] Updating notebook \"apr2000cbe/google-play-store-app-data-analysis\" on https://jovian.ml/\n",
      "[jovian] Uploading notebook..\n",
      "[jovian] Committed successfully! https://jovian.ml/apr2000cbe/google-play-store-app-data-analysis\n"
     ]
    },
    {
     "data": {
      "text/plain": [
       "'https://jovian.ml/apr2000cbe/google-play-store-app-data-analysis'"
      ]
     },
     "execution_count": 21,
     "metadata": {},
     "output_type": "execute_result"
    }
   ],
   "source": [
    "import jovian\n",
    "jovian.commit(file=\"googleplaystore.csv\", environment=None)"
   ]
  },
  {
   "cell_type": "markdown",
   "metadata": {},
   "source": [
    "## Asking and Answering Questions\n",
    "\n",
    "In this section we will be asking some questions and answering them by manipulating the dataset."
   ]
  },
  {
   "cell_type": "markdown",
   "metadata": {},
   "source": [
    "<b>1. How many app Categories are there?</b>"
   ]
  },
  {
   "cell_type": "code",
   "execution_count": 22,
   "metadata": {},
   "outputs": [
    {
     "name": "stdout",
     "output_type": "stream",
     "text": [
      "There are 33 different app catrgories.\n",
      " The categories are: ['ART_AND_DESIGN' 'AUTO_AND_VEHICLES' 'BEAUTY' 'BOOKS_AND_REFERENCE'\n",
      " 'BUSINESS' 'COMICS' 'COMMUNICATION' 'DATING' 'EDUCATION' 'ENTERTAINMENT'\n",
      " 'EVENTS' 'FINANCE' 'FOOD_AND_DRINK' 'HEALTH_AND_FITNESS' 'HOUSE_AND_HOME'\n",
      " 'LIBRARIES_AND_DEMO' 'LIFESTYLE' 'GAME' 'FAMILY' 'MEDICAL' 'SOCIAL'\n",
      " 'SHOPPING' 'PHOTOGRAPHY' 'SPORTS' 'TRAVEL_AND_LOCAL' 'TOOLS'\n",
      " 'PERSONALIZATION' 'PRODUCTIVITY' 'PARENTING' 'WEATHER' 'VIDEO_PLAYERS'\n",
      " 'NEWS_AND_MAGAZINES' 'MAPS_AND_NAVIGATION']\n"
     ]
    }
   ],
   "source": [
    "unique_categories = apps_df[\"Category\"].unique()\n",
    "print(f\"There are {unique_categories.shape[0]} different app catrgories.\\n The categories are: {unique_categories}\")"
   ]
  },
  {
   "cell_type": "markdown",
   "metadata": {},
   "source": [
    "To answer this question, we use the ```.unique()``` method on the ```Category``` column of the DataFrame. This method returns an array containing the unique values on that column."
   ]
  },
  {
   "cell_type": "markdown",
   "metadata": {},
   "source": [
    "<b>2. Totally how many apps were installed by people?</b>"
   ]
  },
  {
   "cell_type": "code",
   "execution_count": 23,
   "metadata": {},
   "outputs": [
    {
     "name": "stdout",
     "output_type": "stream",
     "text": [
      "At the time of compilation of this dataset, the total number of apps installed is 75122938527.\n"
     ]
    }
   ],
   "source": [
    "total = apps_df[\"Installs\"].sum()\n",
    "print(f\"At the time of compilation of this dataset, the total number of apps installed is {total}.\")"
   ]
  },
  {
   "cell_type": "markdown",
   "metadata": {},
   "source": [
    "The total number of app installations can be done by using the ```.sum()``` method on the ```Installs``` column. "
   ]
  },
  {
   "cell_type": "markdown",
   "metadata": {},
   "source": [
    "<b>3. Find the number of apps with highest installations.</b>"
   ]
  },
  {
   "cell_type": "code",
   "execution_count": 24,
   "metadata": {},
   "outputs": [
    {
     "data": {
      "text/html": [
       "<div>\n",
       "<style scoped>\n",
       "    .dataframe tbody tr th:only-of-type {\n",
       "        vertical-align: middle;\n",
       "    }\n",
       "\n",
       "    .dataframe tbody tr th {\n",
       "        vertical-align: top;\n",
       "    }\n",
       "\n",
       "    .dataframe thead th {\n",
       "        text-align: right;\n",
       "    }\n",
       "</style>\n",
       "<table border=\"1\" class=\"dataframe\">\n",
       "  <thead>\n",
       "    <tr style=\"text-align: right;\">\n",
       "      <th></th>\n",
       "      <th>App</th>\n",
       "      <th>Category</th>\n",
       "      <th>Rating</th>\n",
       "      <th>Reviews</th>\n",
       "      <th>Size</th>\n",
       "      <th>Installs</th>\n",
       "      <th>Type</th>\n",
       "      <th>Price</th>\n",
       "      <th>Content Rating</th>\n",
       "      <th>Last Updated</th>\n",
       "    </tr>\n",
       "  </thead>\n",
       "  <tbody>\n",
       "    <tr>\n",
       "      <th>152</th>\n",
       "      <td>Google Play Books</td>\n",
       "      <td>BOOKS_AND_REFERENCE</td>\n",
       "      <td>3.9</td>\n",
       "      <td>1433233</td>\n",
       "      <td>Varies with device</td>\n",
       "      <td>1000000000</td>\n",
       "      <td>Free</td>\n",
       "      <td>0.0</td>\n",
       "      <td>Teen</td>\n",
       "      <td>2018-08-03</td>\n",
       "    </tr>\n",
       "    <tr>\n",
       "      <th>335</th>\n",
       "      <td>Messenger – Text and Video Chat for Free</td>\n",
       "      <td>COMMUNICATION</td>\n",
       "      <td>4.0</td>\n",
       "      <td>56642847</td>\n",
       "      <td>Varies with device</td>\n",
       "      <td>1000000000</td>\n",
       "      <td>Free</td>\n",
       "      <td>0.0</td>\n",
       "      <td>Everyone</td>\n",
       "      <td>2018-08-01</td>\n",
       "    </tr>\n",
       "    <tr>\n",
       "      <th>336</th>\n",
       "      <td>WhatsApp Messenger</td>\n",
       "      <td>COMMUNICATION</td>\n",
       "      <td>4.4</td>\n",
       "      <td>69119316</td>\n",
       "      <td>Varies with device</td>\n",
       "      <td>1000000000</td>\n",
       "      <td>Free</td>\n",
       "      <td>0.0</td>\n",
       "      <td>Everyone</td>\n",
       "      <td>2018-08-03</td>\n",
       "    </tr>\n",
       "    <tr>\n",
       "      <th>338</th>\n",
       "      <td>Google Chrome: Fast &amp; Secure</td>\n",
       "      <td>COMMUNICATION</td>\n",
       "      <td>4.3</td>\n",
       "      <td>9642995</td>\n",
       "      <td>Varies with device</td>\n",
       "      <td>1000000000</td>\n",
       "      <td>Free</td>\n",
       "      <td>0.0</td>\n",
       "      <td>Everyone</td>\n",
       "      <td>2018-08-01</td>\n",
       "    </tr>\n",
       "    <tr>\n",
       "      <th>340</th>\n",
       "      <td>Gmail</td>\n",
       "      <td>COMMUNICATION</td>\n",
       "      <td>4.3</td>\n",
       "      <td>4604324</td>\n",
       "      <td>Varies with device</td>\n",
       "      <td>1000000000</td>\n",
       "      <td>Free</td>\n",
       "      <td>0.0</td>\n",
       "      <td>Everyone</td>\n",
       "      <td>2018-08-02</td>\n",
       "    </tr>\n",
       "    <tr>\n",
       "      <th>341</th>\n",
       "      <td>Hangouts</td>\n",
       "      <td>COMMUNICATION</td>\n",
       "      <td>4.0</td>\n",
       "      <td>3419249</td>\n",
       "      <td>Varies with device</td>\n",
       "      <td>1000000000</td>\n",
       "      <td>Free</td>\n",
       "      <td>0.0</td>\n",
       "      <td>Everyone</td>\n",
       "      <td>2018-07-21</td>\n",
       "    </tr>\n",
       "    <tr>\n",
       "      <th>391</th>\n",
       "      <td>Skype - free IM &amp; video calls</td>\n",
       "      <td>COMMUNICATION</td>\n",
       "      <td>4.1</td>\n",
       "      <td>10484169</td>\n",
       "      <td>Varies with device</td>\n",
       "      <td>1000000000</td>\n",
       "      <td>Free</td>\n",
       "      <td>0.0</td>\n",
       "      <td>Everyone</td>\n",
       "      <td>2018-08-03</td>\n",
       "    </tr>\n",
       "    <tr>\n",
       "      <th>865</th>\n",
       "      <td>Google Play Games</td>\n",
       "      <td>ENTERTAINMENT</td>\n",
       "      <td>4.3</td>\n",
       "      <td>7165362</td>\n",
       "      <td>Varies with device</td>\n",
       "      <td>1000000000</td>\n",
       "      <td>Free</td>\n",
       "      <td>0.0</td>\n",
       "      <td>Teen</td>\n",
       "      <td>2018-07-16</td>\n",
       "    </tr>\n",
       "    <tr>\n",
       "      <th>1654</th>\n",
       "      <td>Subway Surfers</td>\n",
       "      <td>GAME</td>\n",
       "      <td>4.5</td>\n",
       "      <td>27722264</td>\n",
       "      <td>76M</td>\n",
       "      <td>1000000000</td>\n",
       "      <td>Free</td>\n",
       "      <td>0.0</td>\n",
       "      <td>Everyone 10+</td>\n",
       "      <td>2018-07-12</td>\n",
       "    </tr>\n",
       "    <tr>\n",
       "      <th>2544</th>\n",
       "      <td>Facebook</td>\n",
       "      <td>SOCIAL</td>\n",
       "      <td>4.1</td>\n",
       "      <td>78158306</td>\n",
       "      <td>Varies with device</td>\n",
       "      <td>1000000000</td>\n",
       "      <td>Free</td>\n",
       "      <td>0.0</td>\n",
       "      <td>Teen</td>\n",
       "      <td>2018-08-03</td>\n",
       "    </tr>\n",
       "    <tr>\n",
       "      <th>2545</th>\n",
       "      <td>Instagram</td>\n",
       "      <td>SOCIAL</td>\n",
       "      <td>4.5</td>\n",
       "      <td>66577313</td>\n",
       "      <td>Varies with device</td>\n",
       "      <td>1000000000</td>\n",
       "      <td>Free</td>\n",
       "      <td>0.0</td>\n",
       "      <td>Teen</td>\n",
       "      <td>2018-07-31</td>\n",
       "    </tr>\n",
       "    <tr>\n",
       "      <th>2554</th>\n",
       "      <td>Google+</td>\n",
       "      <td>SOCIAL</td>\n",
       "      <td>4.2</td>\n",
       "      <td>4831125</td>\n",
       "      <td>Varies with device</td>\n",
       "      <td>1000000000</td>\n",
       "      <td>Free</td>\n",
       "      <td>0.0</td>\n",
       "      <td>Teen</td>\n",
       "      <td>2018-07-26</td>\n",
       "    </tr>\n",
       "    <tr>\n",
       "      <th>2808</th>\n",
       "      <td>Google Photos</td>\n",
       "      <td>PHOTOGRAPHY</td>\n",
       "      <td>4.5</td>\n",
       "      <td>10858556</td>\n",
       "      <td>Varies with device</td>\n",
       "      <td>1000000000</td>\n",
       "      <td>Free</td>\n",
       "      <td>0.0</td>\n",
       "      <td>Everyone</td>\n",
       "      <td>2018-08-06</td>\n",
       "    </tr>\n",
       "    <tr>\n",
       "      <th>3117</th>\n",
       "      <td>Maps - Navigate &amp; Explore</td>\n",
       "      <td>TRAVEL_AND_LOCAL</td>\n",
       "      <td>4.3</td>\n",
       "      <td>9235155</td>\n",
       "      <td>Varies with device</td>\n",
       "      <td>1000000000</td>\n",
       "      <td>Free</td>\n",
       "      <td>0.0</td>\n",
       "      <td>Everyone</td>\n",
       "      <td>2018-07-31</td>\n",
       "    </tr>\n",
       "    <tr>\n",
       "      <th>3127</th>\n",
       "      <td>Google Street View</td>\n",
       "      <td>TRAVEL_AND_LOCAL</td>\n",
       "      <td>4.2</td>\n",
       "      <td>2129689</td>\n",
       "      <td>Varies with device</td>\n",
       "      <td>1000000000</td>\n",
       "      <td>Free</td>\n",
       "      <td>0.0</td>\n",
       "      <td>Everyone</td>\n",
       "      <td>2018-08-06</td>\n",
       "    </tr>\n",
       "    <tr>\n",
       "      <th>3234</th>\n",
       "      <td>Google</td>\n",
       "      <td>TOOLS</td>\n",
       "      <td>4.4</td>\n",
       "      <td>8033493</td>\n",
       "      <td>Varies with device</td>\n",
       "      <td>1000000000</td>\n",
       "      <td>Free</td>\n",
       "      <td>0.0</td>\n",
       "      <td>Everyone</td>\n",
       "      <td>2018-08-03</td>\n",
       "    </tr>\n",
       "    <tr>\n",
       "      <th>3454</th>\n",
       "      <td>Google Drive</td>\n",
       "      <td>PRODUCTIVITY</td>\n",
       "      <td>4.4</td>\n",
       "      <td>2731171</td>\n",
       "      <td>Varies with device</td>\n",
       "      <td>1000000000</td>\n",
       "      <td>Free</td>\n",
       "      <td>0.0</td>\n",
       "      <td>Everyone</td>\n",
       "      <td>2018-08-06</td>\n",
       "    </tr>\n",
       "    <tr>\n",
       "      <th>3665</th>\n",
       "      <td>YouTube</td>\n",
       "      <td>VIDEO_PLAYERS</td>\n",
       "      <td>4.3</td>\n",
       "      <td>25655305</td>\n",
       "      <td>Varies with device</td>\n",
       "      <td>1000000000</td>\n",
       "      <td>Free</td>\n",
       "      <td>0.0</td>\n",
       "      <td>Teen</td>\n",
       "      <td>2018-08-02</td>\n",
       "    </tr>\n",
       "    <tr>\n",
       "      <th>3687</th>\n",
       "      <td>Google Play Movies &amp; TV</td>\n",
       "      <td>VIDEO_PLAYERS</td>\n",
       "      <td>3.7</td>\n",
       "      <td>906384</td>\n",
       "      <td>Varies with device</td>\n",
       "      <td>1000000000</td>\n",
       "      <td>Free</td>\n",
       "      <td>0.0</td>\n",
       "      <td>Teen</td>\n",
       "      <td>2018-08-06</td>\n",
       "    </tr>\n",
       "    <tr>\n",
       "      <th>3736</th>\n",
       "      <td>Google News</td>\n",
       "      <td>NEWS_AND_MAGAZINES</td>\n",
       "      <td>3.9</td>\n",
       "      <td>877635</td>\n",
       "      <td>13M</td>\n",
       "      <td>1000000000</td>\n",
       "      <td>Free</td>\n",
       "      <td>0.0</td>\n",
       "      <td>Teen</td>\n",
       "      <td>2018-08-01</td>\n",
       "    </tr>\n",
       "  </tbody>\n",
       "</table>\n",
       "</div>"
      ],
      "text/plain": [
       "                                           App             Category  Rating  \\\n",
       "152                          Google Play Books  BOOKS_AND_REFERENCE     3.9   \n",
       "335   Messenger – Text and Video Chat for Free        COMMUNICATION     4.0   \n",
       "336                         WhatsApp Messenger        COMMUNICATION     4.4   \n",
       "338               Google Chrome: Fast & Secure        COMMUNICATION     4.3   \n",
       "340                                      Gmail        COMMUNICATION     4.3   \n",
       "341                                   Hangouts        COMMUNICATION     4.0   \n",
       "391              Skype - free IM & video calls        COMMUNICATION     4.1   \n",
       "865                          Google Play Games        ENTERTAINMENT     4.3   \n",
       "1654                            Subway Surfers                 GAME     4.5   \n",
       "2544                                  Facebook               SOCIAL     4.1   \n",
       "2545                                 Instagram               SOCIAL     4.5   \n",
       "2554                                   Google+               SOCIAL     4.2   \n",
       "2808                             Google Photos          PHOTOGRAPHY     4.5   \n",
       "3117                 Maps - Navigate & Explore     TRAVEL_AND_LOCAL     4.3   \n",
       "3127                        Google Street View     TRAVEL_AND_LOCAL     4.2   \n",
       "3234                                    Google                TOOLS     4.4   \n",
       "3454                              Google Drive         PRODUCTIVITY     4.4   \n",
       "3665                                   YouTube        VIDEO_PLAYERS     4.3   \n",
       "3687                   Google Play Movies & TV        VIDEO_PLAYERS     3.7   \n",
       "3736                               Google News   NEWS_AND_MAGAZINES     3.9   \n",
       "\n",
       "       Reviews                Size    Installs  Type  Price Content Rating  \\\n",
       "152    1433233  Varies with device  1000000000  Free    0.0           Teen   \n",
       "335   56642847  Varies with device  1000000000  Free    0.0       Everyone   \n",
       "336   69119316  Varies with device  1000000000  Free    0.0       Everyone   \n",
       "338    9642995  Varies with device  1000000000  Free    0.0       Everyone   \n",
       "340    4604324  Varies with device  1000000000  Free    0.0       Everyone   \n",
       "341    3419249  Varies with device  1000000000  Free    0.0       Everyone   \n",
       "391   10484169  Varies with device  1000000000  Free    0.0       Everyone   \n",
       "865    7165362  Varies with device  1000000000  Free    0.0           Teen   \n",
       "1654  27722264                 76M  1000000000  Free    0.0   Everyone 10+   \n",
       "2544  78158306  Varies with device  1000000000  Free    0.0           Teen   \n",
       "2545  66577313  Varies with device  1000000000  Free    0.0           Teen   \n",
       "2554   4831125  Varies with device  1000000000  Free    0.0           Teen   \n",
       "2808  10858556  Varies with device  1000000000  Free    0.0       Everyone   \n",
       "3117   9235155  Varies with device  1000000000  Free    0.0       Everyone   \n",
       "3127   2129689  Varies with device  1000000000  Free    0.0       Everyone   \n",
       "3234   8033493  Varies with device  1000000000  Free    0.0       Everyone   \n",
       "3454   2731171  Varies with device  1000000000  Free    0.0       Everyone   \n",
       "3665  25655305  Varies with device  1000000000  Free    0.0           Teen   \n",
       "3687    906384  Varies with device  1000000000  Free    0.0           Teen   \n",
       "3736    877635                 13M  1000000000  Free    0.0           Teen   \n",
       "\n",
       "     Last Updated  \n",
       "152    2018-08-03  \n",
       "335    2018-08-01  \n",
       "336    2018-08-03  \n",
       "338    2018-08-01  \n",
       "340    2018-08-02  \n",
       "341    2018-07-21  \n",
       "391    2018-08-03  \n",
       "865    2018-07-16  \n",
       "1654   2018-07-12  \n",
       "2544   2018-08-03  \n",
       "2545   2018-07-31  \n",
       "2554   2018-07-26  \n",
       "2808   2018-08-06  \n",
       "3117   2018-07-31  \n",
       "3127   2018-08-06  \n",
       "3234   2018-08-03  \n",
       "3454   2018-08-06  \n",
       "3665   2018-08-02  \n",
       "3687   2018-08-06  \n",
       "3736   2018-08-01  "
      ]
     },
     "execution_count": 24,
     "metadata": {},
     "output_type": "execute_result"
    }
   ],
   "source": [
    "high_installs = apps_df[apps_df[\"Installs\"]==apps_df[\"Installs\"].max()]\n",
    "high_installs"
   ]
  },
  {
   "cell_type": "code",
   "execution_count": 25,
   "metadata": {},
   "outputs": [
    {
     "name": "stdout",
     "output_type": "stream",
     "text": [
      "There are 20 apps which has the highest number of installations of 1000000000.\n"
     ]
    }
   ],
   "source": [
    "print(f\"There are {high_installs.shape[0]} apps which has the highest number of installations of {apps_df['Installs'].max()}.\")"
   ]
  },
  {
   "cell_type": "markdown",
   "metadata": {},
   "source": [
    "We create a new DataFrame called ```high_installs``` that have only the apps with the highest installations. We achieve this by boolean masking the original dataset and selecting only the apps whoes installations are equal to the maximum installations (```.max()```). using the ```.shape``` attribute on this new DataFrame, we can get the number of apps that have the highest number of installations."
   ]
  },
  {
   "cell_type": "markdown",
   "metadata": {},
   "source": [
    "<b>4. Find the number of apps with highest rating.</b>"
   ]
  },
  {
   "cell_type": "code",
   "execution_count": 26,
   "metadata": {},
   "outputs": [
    {
     "data": {
      "text/html": [
       "<div>\n",
       "<style scoped>\n",
       "    .dataframe tbody tr th:only-of-type {\n",
       "        vertical-align: middle;\n",
       "    }\n",
       "\n",
       "    .dataframe tbody tr th {\n",
       "        vertical-align: top;\n",
       "    }\n",
       "\n",
       "    .dataframe thead th {\n",
       "        text-align: right;\n",
       "    }\n",
       "</style>\n",
       "<table border=\"1\" class=\"dataframe\">\n",
       "  <thead>\n",
       "    <tr style=\"text-align: right;\">\n",
       "      <th></th>\n",
       "      <th>App</th>\n",
       "      <th>Category</th>\n",
       "      <th>Rating</th>\n",
       "      <th>Reviews</th>\n",
       "      <th>Size</th>\n",
       "      <th>Installs</th>\n",
       "      <th>Type</th>\n",
       "      <th>Price</th>\n",
       "      <th>Content Rating</th>\n",
       "      <th>Last Updated</th>\n",
       "    </tr>\n",
       "  </thead>\n",
       "  <tbody>\n",
       "    <tr>\n",
       "      <th>329</th>\n",
       "      <td>Hojiboy Tojiboyev Life Hacks</td>\n",
       "      <td>COMICS</td>\n",
       "      <td>5.0</td>\n",
       "      <td>15</td>\n",
       "      <td>37M</td>\n",
       "      <td>1000</td>\n",
       "      <td>Free</td>\n",
       "      <td>0.0</td>\n",
       "      <td>Everyone</td>\n",
       "      <td>2018-06-26</td>\n",
       "    </tr>\n",
       "    <tr>\n",
       "      <th>612</th>\n",
       "      <td>American Girls Mobile Numbers</td>\n",
       "      <td>DATING</td>\n",
       "      <td>5.0</td>\n",
       "      <td>5</td>\n",
       "      <td>4.4M</td>\n",
       "      <td>1000</td>\n",
       "      <td>Free</td>\n",
       "      <td>0.0</td>\n",
       "      <td>Mature 17+</td>\n",
       "      <td>2018-07-17</td>\n",
       "    </tr>\n",
       "    <tr>\n",
       "      <th>615</th>\n",
       "      <td>Awake Dating</td>\n",
       "      <td>DATING</td>\n",
       "      <td>5.0</td>\n",
       "      <td>2</td>\n",
       "      <td>70M</td>\n",
       "      <td>100</td>\n",
       "      <td>Free</td>\n",
       "      <td>0.0</td>\n",
       "      <td>Mature 17+</td>\n",
       "      <td>2018-07-24</td>\n",
       "    </tr>\n",
       "    <tr>\n",
       "      <th>633</th>\n",
       "      <td>Spine- The dating app</td>\n",
       "      <td>DATING</td>\n",
       "      <td>5.0</td>\n",
       "      <td>5</td>\n",
       "      <td>9.3M</td>\n",
       "      <td>500</td>\n",
       "      <td>Free</td>\n",
       "      <td>0.0</td>\n",
       "      <td>Teen</td>\n",
       "      <td>2018-07-14</td>\n",
       "    </tr>\n",
       "    <tr>\n",
       "      <th>636</th>\n",
       "      <td>Girls Live Talk - Free Text and Video Chat</td>\n",
       "      <td>DATING</td>\n",
       "      <td>5.0</td>\n",
       "      <td>6</td>\n",
       "      <td>5.0M</td>\n",
       "      <td>100</td>\n",
       "      <td>Free</td>\n",
       "      <td>0.0</td>\n",
       "      <td>Mature 17+</td>\n",
       "      <td>2018-08-01</td>\n",
       "    </tr>\n",
       "    <tr>\n",
       "      <th>...</th>\n",
       "      <td>...</td>\n",
       "      <td>...</td>\n",
       "      <td>...</td>\n",
       "      <td>...</td>\n",
       "      <td>...</td>\n",
       "      <td>...</td>\n",
       "      <td>...</td>\n",
       "      <td>...</td>\n",
       "      <td>...</td>\n",
       "      <td>...</td>\n",
       "    </tr>\n",
       "    <tr>\n",
       "      <th>10721</th>\n",
       "      <td>Mad Dash Fo' Cash</td>\n",
       "      <td>GAME</td>\n",
       "      <td>5.0</td>\n",
       "      <td>14</td>\n",
       "      <td>16M</td>\n",
       "      <td>100</td>\n",
       "      <td>Free</td>\n",
       "      <td>0.0</td>\n",
       "      <td>Everyone</td>\n",
       "      <td>2017-06-19</td>\n",
       "    </tr>\n",
       "    <tr>\n",
       "      <th>10742</th>\n",
       "      <td>GKPB FP Online Church</td>\n",
       "      <td>LIFESTYLE</td>\n",
       "      <td>5.0</td>\n",
       "      <td>32</td>\n",
       "      <td>7.9M</td>\n",
       "      <td>1000</td>\n",
       "      <td>Free</td>\n",
       "      <td>0.0</td>\n",
       "      <td>Everyone</td>\n",
       "      <td>2017-12-31</td>\n",
       "    </tr>\n",
       "    <tr>\n",
       "      <th>10776</th>\n",
       "      <td>Monster Ride Pro</td>\n",
       "      <td>GAME</td>\n",
       "      <td>5.0</td>\n",
       "      <td>1</td>\n",
       "      <td>24M</td>\n",
       "      <td>10</td>\n",
       "      <td>Free</td>\n",
       "      <td>0.0</td>\n",
       "      <td>Everyone</td>\n",
       "      <td>2018-03-05</td>\n",
       "    </tr>\n",
       "    <tr>\n",
       "      <th>10820</th>\n",
       "      <td>Fr. Daoud Lamei</td>\n",
       "      <td>FAMILY</td>\n",
       "      <td>5.0</td>\n",
       "      <td>22</td>\n",
       "      <td>8.6M</td>\n",
       "      <td>1000</td>\n",
       "      <td>Free</td>\n",
       "      <td>0.0</td>\n",
       "      <td>Teen</td>\n",
       "      <td>2018-06-27</td>\n",
       "    </tr>\n",
       "    <tr>\n",
       "      <th>10837</th>\n",
       "      <td>Fr. Mike Schmitz Audio Teachings</td>\n",
       "      <td>FAMILY</td>\n",
       "      <td>5.0</td>\n",
       "      <td>4</td>\n",
       "      <td>3.6M</td>\n",
       "      <td>100</td>\n",
       "      <td>Free</td>\n",
       "      <td>0.0</td>\n",
       "      <td>Everyone</td>\n",
       "      <td>2018-07-06</td>\n",
       "    </tr>\n",
       "  </tbody>\n",
       "</table>\n",
       "<p>271 rows × 10 columns</p>\n",
       "</div>"
      ],
      "text/plain": [
       "                                              App   Category  Rating  Reviews  \\\n",
       "329                  Hojiboy Tojiboyev Life Hacks     COMICS     5.0       15   \n",
       "612                 American Girls Mobile Numbers     DATING     5.0        5   \n",
       "615                                  Awake Dating     DATING     5.0        2   \n",
       "633                         Spine- The dating app     DATING     5.0        5   \n",
       "636    Girls Live Talk - Free Text and Video Chat     DATING     5.0        6   \n",
       "...                                           ...        ...     ...      ...   \n",
       "10721                           Mad Dash Fo' Cash       GAME     5.0       14   \n",
       "10742                       GKPB FP Online Church  LIFESTYLE     5.0       32   \n",
       "10776                            Monster Ride Pro       GAME     5.0        1   \n",
       "10820                             Fr. Daoud Lamei     FAMILY     5.0       22   \n",
       "10837            Fr. Mike Schmitz Audio Teachings     FAMILY     5.0        4   \n",
       "\n",
       "       Size  Installs  Type  Price Content Rating Last Updated  \n",
       "329     37M      1000  Free    0.0       Everyone   2018-06-26  \n",
       "612    4.4M      1000  Free    0.0     Mature 17+   2018-07-17  \n",
       "615     70M       100  Free    0.0     Mature 17+   2018-07-24  \n",
       "633    9.3M       500  Free    0.0           Teen   2018-07-14  \n",
       "636    5.0M       100  Free    0.0     Mature 17+   2018-08-01  \n",
       "...     ...       ...   ...    ...            ...          ...  \n",
       "10721   16M       100  Free    0.0       Everyone   2017-06-19  \n",
       "10742  7.9M      1000  Free    0.0       Everyone   2017-12-31  \n",
       "10776   24M        10  Free    0.0       Everyone   2018-03-05  \n",
       "10820  8.6M      1000  Free    0.0           Teen   2018-06-27  \n",
       "10837  3.6M       100  Free    0.0       Everyone   2018-07-06  \n",
       "\n",
       "[271 rows x 10 columns]"
      ]
     },
     "execution_count": 26,
     "metadata": {},
     "output_type": "execute_result"
    }
   ],
   "source": [
    "high_rating = apps_df[apps_df[\"Rating\"]==apps_df[\"Rating\"].max()]\n",
    "high_rating"
   ]
  },
  {
   "cell_type": "code",
   "execution_count": 27,
   "metadata": {},
   "outputs": [
    {
     "name": "stdout",
     "output_type": "stream",
     "text": [
      "There are 271 apps with the highest rating of 5.\n"
     ]
    }
   ],
   "source": [
    "print(f\"There are {high_rating.shape[0]} apps with the highest rating of 5.\")"
   ]
  },
  {
   "cell_type": "markdown",
   "metadata": {},
   "source": [
    "Again here, we create a new DataFrame called ```high_rating``` that holds the only the apps with the highest rating (obtained using the ```.max()``` method on the ```Rating``` Column). using the ```.shape``` attribute on this new DataFrame, we can get the number of apps that have the highest rating."
   ]
  },
  {
   "cell_type": "markdown",
   "metadata": {},
   "source": [
    "<b>5. Find the top 10 app categories that have the highest installations.</b>"
   ]
  },
  {
   "cell_type": "code",
   "execution_count": 28,
   "metadata": {},
   "outputs": [
    {
     "data": {
      "text/html": [
       "<div>\n",
       "<style scoped>\n",
       "    .dataframe tbody tr th:only-of-type {\n",
       "        vertical-align: middle;\n",
       "    }\n",
       "\n",
       "    .dataframe tbody tr th {\n",
       "        vertical-align: top;\n",
       "    }\n",
       "\n",
       "    .dataframe thead th {\n",
       "        text-align: right;\n",
       "    }\n",
       "</style>\n",
       "<table border=\"1\" class=\"dataframe\">\n",
       "  <thead>\n",
       "    <tr style=\"text-align: right;\">\n",
       "      <th></th>\n",
       "      <th>Installs</th>\n",
       "    </tr>\n",
       "    <tr>\n",
       "      <th>Category</th>\n",
       "      <th></th>\n",
       "    </tr>\n",
       "  </thead>\n",
       "  <tbody>\n",
       "    <tr>\n",
       "      <th>GAME</th>\n",
       "      <td>13878924415</td>\n",
       "    </tr>\n",
       "    <tr>\n",
       "      <th>COMMUNICATION</th>\n",
       "      <td>11038276251</td>\n",
       "    </tr>\n",
       "    <tr>\n",
       "      <th>TOOLS</th>\n",
       "      <td>8001771915</td>\n",
       "    </tr>\n",
       "    <tr>\n",
       "      <th>PRODUCTIVITY</th>\n",
       "      <td>5793091369</td>\n",
       "    </tr>\n",
       "    <tr>\n",
       "      <th>SOCIAL</th>\n",
       "      <td>5487867902</td>\n",
       "    </tr>\n",
       "    <tr>\n",
       "      <th>PHOTOGRAPHY</th>\n",
       "      <td>4649147655</td>\n",
       "    </tr>\n",
       "    <tr>\n",
       "      <th>FAMILY</th>\n",
       "      <td>4427941505</td>\n",
       "    </tr>\n",
       "    <tr>\n",
       "      <th>VIDEO_PLAYERS</th>\n",
       "      <td>3926902720</td>\n",
       "    </tr>\n",
       "    <tr>\n",
       "      <th>TRAVEL_AND_LOCAL</th>\n",
       "      <td>2894887146</td>\n",
       "    </tr>\n",
       "    <tr>\n",
       "      <th>NEWS_AND_MAGAZINES</th>\n",
       "      <td>2369217760</td>\n",
       "    </tr>\n",
       "  </tbody>\n",
       "</table>\n",
       "</div>"
      ],
      "text/plain": [
       "                       Installs\n",
       "Category                       \n",
       "GAME                13878924415\n",
       "COMMUNICATION       11038276251\n",
       "TOOLS                8001771915\n",
       "PRODUCTIVITY         5793091369\n",
       "SOCIAL               5487867902\n",
       "PHOTOGRAPHY          4649147655\n",
       "FAMILY               4427941505\n",
       "VIDEO_PLAYERS        3926902720\n",
       "TRAVEL_AND_LOCAL     2894887146\n",
       "NEWS_AND_MAGAZINES   2369217760"
      ]
     },
     "execution_count": 28,
     "metadata": {},
     "output_type": "execute_result"
    }
   ],
   "source": [
    "app_category_group = apps_df.groupby(\"Category\")\n",
    "total_installs = app_category_group[[\"Installs\"]].sum()\n",
    "total_installs.sort_values(\"Installs\",ascending=False).head(10)"
   ]
  },
  {
   "cell_type": "markdown",
   "metadata": {},
   "source": [
    "First we group the DataFrame by the ```Category``` column using the ```.groupby()``` method on the DataFrame. Then we can call ```.sum()``` method on the ```Installs``` column of this groupby object. This returns us a new DataFrame that has the app category as the index and the sum of installations of all the apps in that category.<br> We then call the ```.sort_values()``` method on this DataFrame as specify that the sorting must be done based on the ```Installs``` column as the first parameter and then we set ```ascending = False``` to tell that we need to sort the values in descending order. Calling the ```.head(10)``` on this DataFrame gives us the top 10 categories having the most number of installations.\n",
    "\n",
    "From the above DataFrame, it looks like ```GAME``` category had the most number of installations followed by ```COMMUNICATION```, ```TOOLS``` and ```PRODUCTIVITY```."
   ]
  },
  {
   "cell_type": "markdown",
   "metadata": {},
   "source": [
    "<b>6. Find the top 10 app categories that have the lowest installations.</b>"
   ]
  },
  {
   "cell_type": "code",
   "execution_count": 29,
   "metadata": {},
   "outputs": [
    {
     "data": {
      "text/html": [
       "<div>\n",
       "<style scoped>\n",
       "    .dataframe tbody tr th:only-of-type {\n",
       "        vertical-align: middle;\n",
       "    }\n",
       "\n",
       "    .dataframe tbody tr th {\n",
       "        vertical-align: top;\n",
       "    }\n",
       "\n",
       "    .dataframe thead th {\n",
       "        text-align: right;\n",
       "    }\n",
       "</style>\n",
       "<table border=\"1\" class=\"dataframe\">\n",
       "  <thead>\n",
       "    <tr style=\"text-align: right;\">\n",
       "      <th></th>\n",
       "      <th>Installs</th>\n",
       "    </tr>\n",
       "    <tr>\n",
       "      <th>Category</th>\n",
       "      <th></th>\n",
       "    </tr>\n",
       "  </thead>\n",
       "  <tbody>\n",
       "    <tr>\n",
       "      <th>EVENTS</th>\n",
       "      <td>15973161</td>\n",
       "    </tr>\n",
       "    <tr>\n",
       "      <th>BEAUTY</th>\n",
       "      <td>27197050</td>\n",
       "    </tr>\n",
       "    <tr>\n",
       "      <th>PARENTING</th>\n",
       "      <td>31521110</td>\n",
       "    </tr>\n",
       "    <tr>\n",
       "      <th>MEDICAL</th>\n",
       "      <td>38193177</td>\n",
       "    </tr>\n",
       "    <tr>\n",
       "      <th>COMICS</th>\n",
       "      <td>44981150</td>\n",
       "    </tr>\n",
       "    <tr>\n",
       "      <th>LIBRARIES_AND_DEMO</th>\n",
       "      <td>52995910</td>\n",
       "    </tr>\n",
       "    <tr>\n",
       "      <th>AUTO_AND_VEHICLES</th>\n",
       "      <td>53130211</td>\n",
       "    </tr>\n",
       "    <tr>\n",
       "      <th>HOUSE_AND_HOME</th>\n",
       "      <td>97212461</td>\n",
       "    </tr>\n",
       "    <tr>\n",
       "      <th>ART_AND_DESIGN</th>\n",
       "      <td>114338100</td>\n",
       "    </tr>\n",
       "    <tr>\n",
       "      <th>DATING</th>\n",
       "      <td>140926107</td>\n",
       "    </tr>\n",
       "  </tbody>\n",
       "</table>\n",
       "</div>"
      ],
      "text/plain": [
       "                     Installs\n",
       "Category                     \n",
       "EVENTS               15973161\n",
       "BEAUTY               27197050\n",
       "PARENTING            31521110\n",
       "MEDICAL              38193177\n",
       "COMICS               44981150\n",
       "LIBRARIES_AND_DEMO   52995910\n",
       "AUTO_AND_VEHICLES    53130211\n",
       "HOUSE_AND_HOME       97212461\n",
       "ART_AND_DESIGN      114338100\n",
       "DATING              140926107"
      ]
     },
     "execution_count": 29,
     "metadata": {},
     "output_type": "execute_result"
    }
   ],
   "source": [
    "total_installs.sort_values(\"Installs\",ascending=True).head(10)"
   ]
  },
  {
   "cell_type": "markdown",
   "metadata": {},
   "source": [
    "We use the same DataFram from the previous question. We sort values again on the number of installations but we set ```ascending = True```. This will sort the values in ascending order. Calling the ```.head(10)``` method on this gives us the categories that have the lowest installations.\n",
    "\n",
    "From the above DataFrame, it looks like ```EVENTS``` category had the least number of installations followed by ```BEAUTY```, ```PARENTING``` and ```MEDICAL```.\n",
    "\n",
    "The above 2 questions can also be answered using a bar plot of the number of installations based on the app category."
   ]
  },
  {
   "cell_type": "code",
   "execution_count": 30,
   "metadata": {},
   "outputs": [
    {
     "data": {
      "image/png": "[encoded data removed]",
      "text/plain": [
       "<Figure size 1080x720 with 1 Axes>"
      ]
     },
     "metadata": {},
     "output_type": "display_data"
    }
   ],
   "source": [
    "sorted_total_installs = total_installs.sort_values(\"Installs\",ascending=False)\n",
    "plt.figure(figsize=(15,10))\n",
    "x = sorted_total_installs[\"Installs\"]\n",
    "y = sorted_total_installs.index.tolist()\n",
    "plt.title(\"No. of Installs based on App Category\")\n",
    "sns.barplot(x,y)\n",
    "plt.xlabel(\"No. of Installations\")\n",
    "plt.ylabel(\"Category\");"
   ]
  },
  {
   "cell_type": "markdown",
   "metadata": {},
   "source": [
    "To obtain the bar plot number of installations based on the category of the app, we first sort the same DataFrame used in the above 2 question in descending order (using ```.sort_values()``` method). Then we call the ```sns.barplot()``` method of Seaborn. The first 2 parameters specifies values for the x and y axes. and we give the sorted DataFrame as the data to be plotted."
   ]
  },
  {
   "cell_type": "markdown",
   "metadata": {},
   "source": [
    "<b>7. Which app category has the highest number of paid apps?</b>"
   ]
  },
  {
   "cell_type": "code",
   "execution_count": 31,
   "metadata": {},
   "outputs": [
    {
     "data": {
      "text/html": [
       "<div>\n",
       "<style scoped>\n",
       "    .dataframe tbody tr th:only-of-type {\n",
       "        vertical-align: middle;\n",
       "    }\n",
       "\n",
       "    .dataframe tbody tr th {\n",
       "        vertical-align: top;\n",
       "    }\n",
       "\n",
       "    .dataframe thead th {\n",
       "        text-align: right;\n",
       "    }\n",
       "</style>\n",
       "<table border=\"1\" class=\"dataframe\">\n",
       "  <thead>\n",
       "    <tr style=\"text-align: right;\">\n",
       "      <th></th>\n",
       "      <th></th>\n",
       "      <th>Type</th>\n",
       "    </tr>\n",
       "    <tr>\n",
       "      <th>Category</th>\n",
       "      <th></th>\n",
       "      <th></th>\n",
       "    </tr>\n",
       "  </thead>\n",
       "  <tbody>\n",
       "    <tr>\n",
       "      <th rowspan=\"2\" valign=\"top\">ART_AND_DESIGN</th>\n",
       "      <th>Free</th>\n",
       "      <td>61</td>\n",
       "    </tr>\n",
       "    <tr>\n",
       "      <th>Paid</th>\n",
       "      <td>3</td>\n",
       "    </tr>\n",
       "    <tr>\n",
       "      <th rowspan=\"2\" valign=\"top\">AUTO_AND_VEHICLES</th>\n",
       "      <th>Free</th>\n",
       "      <td>82</td>\n",
       "    </tr>\n",
       "    <tr>\n",
       "      <th>Paid</th>\n",
       "      <td>3</td>\n",
       "    </tr>\n",
       "    <tr>\n",
       "      <th>BEAUTY</th>\n",
       "      <th>Free</th>\n",
       "      <td>53</td>\n",
       "    </tr>\n",
       "    <tr>\n",
       "      <th>...</th>\n",
       "      <th>...</th>\n",
       "      <td>...</td>\n",
       "    </tr>\n",
       "    <tr>\n",
       "      <th>TRAVEL_AND_LOCAL</th>\n",
       "      <th>Paid</th>\n",
       "      <td>12</td>\n",
       "    </tr>\n",
       "    <tr>\n",
       "      <th rowspan=\"2\" valign=\"top\">VIDEO_PLAYERS</th>\n",
       "      <th>Free</th>\n",
       "      <td>159</td>\n",
       "    </tr>\n",
       "    <tr>\n",
       "      <th>Paid</th>\n",
       "      <td>4</td>\n",
       "    </tr>\n",
       "    <tr>\n",
       "      <th rowspan=\"2\" valign=\"top\">WEATHER</th>\n",
       "      <th>Free</th>\n",
       "      <td>71</td>\n",
       "    </tr>\n",
       "    <tr>\n",
       "      <th>Paid</th>\n",
       "      <td>8</td>\n",
       "    </tr>\n",
       "  </tbody>\n",
       "</table>\n",
       "<p>63 rows × 1 columns</p>\n",
       "</div>"
      ],
      "text/plain": [
       "                        Type\n",
       "Category                    \n",
       "ART_AND_DESIGN    Free    61\n",
       "                  Paid     3\n",
       "AUTO_AND_VEHICLES Free    82\n",
       "                  Paid     3\n",
       "BEAUTY            Free    53\n",
       "...                      ...\n",
       "TRAVEL_AND_LOCAL  Paid    12\n",
       "VIDEO_PLAYERS     Free   159\n",
       "                  Paid     4\n",
       "WEATHER           Free    71\n",
       "                  Paid     8\n",
       "\n",
       "[63 rows x 1 columns]"
      ]
     },
     "execution_count": 31,
     "metadata": {},
     "output_type": "execute_result"
    }
   ],
   "source": [
    "app_category_group = apps_df.groupby(\"Category\")\n",
    "app_type = pd.DataFrame(app_category_group[\"Type\"].apply(lambda x:x.value_counts()))\n",
    "app_type"
   ]
  },
  {
   "cell_type": "markdown",
   "metadata": {},
   "source": [
    "First we group the apps based on the Category. This is achieved using ```.groupby()``` method. Then we create a new DataFrame by applying a lambda function on the ```Type``` column of the DataFrame. This lambda function takes in pandas Series corresponding to a category. It returns the count of the unique values in that series using the ```.value_counts()``` method."
   ]
  },
  {
   "cell_type": "code",
   "execution_count": 32,
   "metadata": {},
   "outputs": [
    {
     "data": {
      "text/html": [
       "<div>\n",
       "<style scoped>\n",
       "    .dataframe tbody tr th:only-of-type {\n",
       "        vertical-align: middle;\n",
       "    }\n",
       "\n",
       "    .dataframe tbody tr th {\n",
       "        vertical-align: top;\n",
       "    }\n",
       "\n",
       "    .dataframe thead th {\n",
       "        text-align: right;\n",
       "    }\n",
       "</style>\n",
       "<table border=\"1\" class=\"dataframe\">\n",
       "  <thead>\n",
       "    <tr style=\"text-align: right;\">\n",
       "      <th></th>\n",
       "      <th>Category</th>\n",
       "      <th>Type</th>\n",
       "      <th>Count</th>\n",
       "    </tr>\n",
       "  </thead>\n",
       "  <tbody>\n",
       "    <tr>\n",
       "      <th>0</th>\n",
       "      <td>ART_AND_DESIGN</td>\n",
       "      <td>Free</td>\n",
       "      <td>61</td>\n",
       "    </tr>\n",
       "    <tr>\n",
       "      <th>1</th>\n",
       "      <td>ART_AND_DESIGN</td>\n",
       "      <td>Paid</td>\n",
       "      <td>3</td>\n",
       "    </tr>\n",
       "    <tr>\n",
       "      <th>2</th>\n",
       "      <td>AUTO_AND_VEHICLES</td>\n",
       "      <td>Free</td>\n",
       "      <td>82</td>\n",
       "    </tr>\n",
       "    <tr>\n",
       "      <th>3</th>\n",
       "      <td>AUTO_AND_VEHICLES</td>\n",
       "      <td>Paid</td>\n",
       "      <td>3</td>\n",
       "    </tr>\n",
       "    <tr>\n",
       "      <th>4</th>\n",
       "      <td>BEAUTY</td>\n",
       "      <td>Free</td>\n",
       "      <td>53</td>\n",
       "    </tr>\n",
       "    <tr>\n",
       "      <th>...</th>\n",
       "      <td>...</td>\n",
       "      <td>...</td>\n",
       "      <td>...</td>\n",
       "    </tr>\n",
       "    <tr>\n",
       "      <th>58</th>\n",
       "      <td>TRAVEL_AND_LOCAL</td>\n",
       "      <td>Paid</td>\n",
       "      <td>12</td>\n",
       "    </tr>\n",
       "    <tr>\n",
       "      <th>59</th>\n",
       "      <td>VIDEO_PLAYERS</td>\n",
       "      <td>Free</td>\n",
       "      <td>159</td>\n",
       "    </tr>\n",
       "    <tr>\n",
       "      <th>60</th>\n",
       "      <td>VIDEO_PLAYERS</td>\n",
       "      <td>Paid</td>\n",
       "      <td>4</td>\n",
       "    </tr>\n",
       "    <tr>\n",
       "      <th>61</th>\n",
       "      <td>WEATHER</td>\n",
       "      <td>Free</td>\n",
       "      <td>71</td>\n",
       "    </tr>\n",
       "    <tr>\n",
       "      <th>62</th>\n",
       "      <td>WEATHER</td>\n",
       "      <td>Paid</td>\n",
       "      <td>8</td>\n",
       "    </tr>\n",
       "  </tbody>\n",
       "</table>\n",
       "<p>63 rows × 3 columns</p>\n",
       "</div>"
      ],
      "text/plain": [
       "             Category  Type  Count\n",
       "0      ART_AND_DESIGN  Free     61\n",
       "1      ART_AND_DESIGN  Paid      3\n",
       "2   AUTO_AND_VEHICLES  Free     82\n",
       "3   AUTO_AND_VEHICLES  Paid      3\n",
       "4              BEAUTY  Free     53\n",
       "..                ...   ...    ...\n",
       "58   TRAVEL_AND_LOCAL  Paid     12\n",
       "59      VIDEO_PLAYERS  Free    159\n",
       "60      VIDEO_PLAYERS  Paid      4\n",
       "61            WEATHER  Free     71\n",
       "62            WEATHER  Paid      8\n",
       "\n",
       "[63 rows x 3 columns]"
      ]
     },
     "execution_count": 32,
     "metadata": {},
     "output_type": "execute_result"
    }
   ],
   "source": [
    "app_type.reset_index(inplace = True)\n",
    "app_type.rename(columns={\"Type\":\"Count\",\"level_1\":\"Type\"},inplace = True)\n",
    "app_type"
   ]
  },
  {
   "cell_type": "markdown",
   "metadata": {},
   "source": [
    "Once that is done, we have a DataFrame that is multi-indexed (both Category and type are indexes here). We use the ```.reset_index()``` This will move the two columns into the DataFrame and create a numbered index. We also rename the DataFrame's columns using the ```.rename()``` method on this new DataFrame. We pass a dictionary where it's keys are the old names of the columns and it's values are the name we need to set to those columns. we use ```inplace = True``` to alter the original DataFrame."
   ]
  },
  {
   "cell_type": "code",
   "execution_count": 33,
   "metadata": {},
   "outputs": [
    {
     "data": {
      "text/html": [
       "<div>\n",
       "<style scoped>\n",
       "    .dataframe tbody tr th:only-of-type {\n",
       "        vertical-align: middle;\n",
       "    }\n",
       "\n",
       "    .dataframe tbody tr th {\n",
       "        vertical-align: top;\n",
       "    }\n",
       "\n",
       "    .dataframe thead th {\n",
       "        text-align: right;\n",
       "    }\n",
       "</style>\n",
       "<table border=\"1\" class=\"dataframe\">\n",
       "  <thead>\n",
       "    <tr style=\"text-align: right;\">\n",
       "      <th></th>\n",
       "      <th>Category</th>\n",
       "      <th>Type</th>\n",
       "      <th>Count</th>\n",
       "    </tr>\n",
       "  </thead>\n",
       "  <tbody>\n",
       "    <tr>\n",
       "      <th>21</th>\n",
       "      <td>FAMILY</td>\n",
       "      <td>Paid</td>\n",
       "      <td>183</td>\n",
       "    </tr>\n",
       "    <tr>\n",
       "      <th>38</th>\n",
       "      <td>MEDICAL</td>\n",
       "      <td>Paid</td>\n",
       "      <td>83</td>\n",
       "    </tr>\n",
       "    <tr>\n",
       "      <th>27</th>\n",
       "      <td>GAME</td>\n",
       "      <td>Paid</td>\n",
       "      <td>82</td>\n",
       "    </tr>\n",
       "    <tr>\n",
       "      <th>44</th>\n",
       "      <td>PERSONALIZATION</td>\n",
       "      <td>Paid</td>\n",
       "      <td>81</td>\n",
       "    </tr>\n",
       "    <tr>\n",
       "      <th>56</th>\n",
       "      <td>TOOLS</td>\n",
       "      <td>Paid</td>\n",
       "      <td>78</td>\n",
       "    </tr>\n",
       "  </tbody>\n",
       "</table>\n",
       "</div>"
      ],
      "text/plain": [
       "           Category  Type  Count\n",
       "21           FAMILY  Paid    183\n",
       "38          MEDICAL  Paid     83\n",
       "27             GAME  Paid     82\n",
       "44  PERSONALIZATION  Paid     81\n",
       "56            TOOLS  Paid     78"
      ]
     },
     "execution_count": 33,
     "metadata": {},
     "output_type": "execute_result"
    }
   ],
   "source": [
    "paid_apps = app_type[app_type[\"Type\"]==\"Paid\"]\n",
    "free_apps = app_type[app_type[\"Type\"]==\"Free\"]\n",
    "sorted_values = paid_apps.sort_values(\"Count\",ascending=False)\n",
    "sorted_values.head()"
   ]
  },
  {
   "cell_type": "markdown",
   "metadata": {},
   "source": [
    "Now we create 2 different DataFrames. The first one contains only the paid apps while the second one has the free apps. We then sort the ```paid_apps``` DataFrame in the descending order.\n",
    "\n",
    "It can be seen that the category called the ```FAMILY``` has the most number of paid apps."
   ]
  },
  {
   "cell_type": "code",
   "execution_count": 34,
   "metadata": {},
   "outputs": [
    {
     "data": {
      "image/png": "[encoded data removed]",
      "text/plain": [
       "<Figure size 720x504 with 1 Axes>"
      ]
     },
     "metadata": {},
     "output_type": "display_data"
    }
   ],
   "source": [
    "plt.figure(figsize=(10,7))\n",
    "sns.barplot(\"Count\",\"Category\",data=sorted_values)\n",
    "plt.title(\"Bar plot of the number Paid Apps in each catrgory\")\n",
    "plt.xlabel(\"No. of Paid Apps\");"
   ]
  },
  {
   "cell_type": "markdown",
   "metadata": {},
   "source": [
    "This can also be verified visually using a bar plot of the number of paid apps in each category. First we set the size of the plot to be ```10*7```. Then we call ```sns.barplot()```. We specify the x and y-axis columns and pass the DataFrame to be plotted. We also specify the title for the plot using the ```plt.title()``` method and x and y axes labels using the ```plt.xlabel()``` and ```plt.ylabel()``` methods."
   ]
  },
  {
   "cell_type": "markdown",
   "metadata": {},
   "source": [
    "<b>8. Which app category has the highest number of free apps?</b>"
   ]
  },
  {
   "cell_type": "code",
   "execution_count": 35,
   "metadata": {},
   "outputs": [
    {
     "data": {
      "text/html": [
       "<div>\n",
       "<style scoped>\n",
       "    .dataframe tbody tr th:only-of-type {\n",
       "        vertical-align: middle;\n",
       "    }\n",
       "\n",
       "    .dataframe tbody tr th {\n",
       "        vertical-align: top;\n",
       "    }\n",
       "\n",
       "    .dataframe thead th {\n",
       "        text-align: right;\n",
       "    }\n",
       "</style>\n",
       "<table border=\"1\" class=\"dataframe\">\n",
       "  <thead>\n",
       "    <tr style=\"text-align: right;\">\n",
       "      <th></th>\n",
       "      <th>Category</th>\n",
       "      <th>Type</th>\n",
       "      <th>Count</th>\n",
       "    </tr>\n",
       "  </thead>\n",
       "  <tbody>\n",
       "    <tr>\n",
       "      <th>20</th>\n",
       "      <td>FAMILY</td>\n",
       "      <td>Free</td>\n",
       "      <td>1649</td>\n",
       "    </tr>\n",
       "    <tr>\n",
       "      <th>26</th>\n",
       "      <td>GAME</td>\n",
       "      <td>Free</td>\n",
       "      <td>877</td>\n",
       "    </tr>\n",
       "    <tr>\n",
       "      <th>55</th>\n",
       "      <td>TOOLS</td>\n",
       "      <td>Free</td>\n",
       "      <td>749</td>\n",
       "    </tr>\n",
       "    <tr>\n",
       "      <th>7</th>\n",
       "      <td>BUSINESS</td>\n",
       "      <td>Free</td>\n",
       "      <td>408</td>\n",
       "    </tr>\n",
       "    <tr>\n",
       "      <th>33</th>\n",
       "      <td>LIFESTYLE</td>\n",
       "      <td>Free</td>\n",
       "      <td>351</td>\n",
       "    </tr>\n",
       "  </tbody>\n",
       "</table>\n",
       "</div>"
      ],
      "text/plain": [
       "     Category  Type  Count\n",
       "20     FAMILY  Free   1649\n",
       "26       GAME  Free    877\n",
       "55      TOOLS  Free    749\n",
       "7    BUSINESS  Free    408\n",
       "33  LIFESTYLE  Free    351"
      ]
     },
     "execution_count": 35,
     "metadata": {},
     "output_type": "execute_result"
    }
   ],
   "source": [
    "sorted_free = free_apps.sort_values(\"Count\",ascending=False)\n",
    "sorted_free.head()"
   ]
  },
  {
   "cell_type": "markdown",
   "metadata": {},
   "source": [
    "We use the ```free_apps``` DataFrame obtained in the previous question. We sort the data based on the number of apps. Here we specify ```ascending = False``` because we need to sort the values in descending order."
   ]
  },
  {
   "cell_type": "code",
   "execution_count": 36,
   "metadata": {},
   "outputs": [
    {
     "data": {
      "image/png": "[encoded data removed]",
      "text/plain": [
       "<Figure size 720x504 with 1 Axes>"
      ]
     },
     "metadata": {},
     "output_type": "display_data"
    }
   ],
   "source": [
    "plt.figure(figsize=(10,7))\n",
    "sns.barplot(\"Count\",\"Category\",data=sorted_free)\n",
    "plt.title(\"No. of Free Apps based on App Category\")\n",
    "plt.xlabel(\"No. of Free Apps\");"
   ]
  },
  {
   "cell_type": "markdown",
   "metadata": {},
   "source": [
    "We also use ```sns.barplot()``` to visualize the results as bar plots. We specify the x and y-axis columns and pass the DataFrame to be plotted. We also specify the title for the plot using the ```plt.title()``` method and x and y axes labels using the ```plt.xlabel()``` and ```plt.ylabel()``` methods.\n",
    "\n",
    "It looks like again, the ```FAMILY``` category has the most number of free apps followed ```GAME``` category."
   ]
  },
  {
   "cell_type": "markdown",
   "metadata": {},
   "source": [
    "<b>9. Which app Content Rating has the most number of installations?</b>"
   ]
  },
  {
   "cell_type": "code",
   "execution_count": 37,
   "metadata": {},
   "outputs": [],
   "source": [
    "content_rating_df = apps_df.groupby(\"Content Rating\")"
   ]
  },
  {
   "cell_type": "markdown",
   "metadata": {},
   "source": [
    "First we group the DataFrame by the Content Rating column using the ```.groupby()``` method. "
   ]
  },
  {
   "cell_type": "code",
   "execution_count": 38,
   "metadata": {},
   "outputs": [
    {
     "data": {
      "text/html": [
       "<div>\n",
       "<style scoped>\n",
       "    .dataframe tbody tr th:only-of-type {\n",
       "        vertical-align: middle;\n",
       "    }\n",
       "\n",
       "    .dataframe tbody tr th {\n",
       "        vertical-align: top;\n",
       "    }\n",
       "\n",
       "    .dataframe thead th {\n",
       "        text-align: right;\n",
       "    }\n",
       "</style>\n",
       "<table border=\"1\" class=\"dataframe\">\n",
       "  <thead>\n",
       "    <tr style=\"text-align: right;\">\n",
       "      <th></th>\n",
       "      <th>Installs</th>\n",
       "    </tr>\n",
       "    <tr>\n",
       "      <th>Content Rating</th>\n",
       "      <th></th>\n",
       "    </tr>\n",
       "  </thead>\n",
       "  <tbody>\n",
       "    <tr>\n",
       "      <th>Everyone</th>\n",
       "      <td>52179353961</td>\n",
       "    </tr>\n",
       "    <tr>\n",
       "      <th>Teen</th>\n",
       "      <td>16487275393</td>\n",
       "    </tr>\n",
       "    <tr>\n",
       "      <th>Everyone 10+</th>\n",
       "      <td>4016271795</td>\n",
       "    </tr>\n",
       "    <tr>\n",
       "      <th>Mature 17+</th>\n",
       "      <td>2437986878</td>\n",
       "    </tr>\n",
       "    <tr>\n",
       "      <th>Adults only 18+</th>\n",
       "      <td>2000000</td>\n",
       "    </tr>\n",
       "    <tr>\n",
       "      <th>Unrated</th>\n",
       "      <td>50500</td>\n",
       "    </tr>\n",
       "  </tbody>\n",
       "</table>\n",
       "</div>"
      ],
      "text/plain": [
       "                    Installs\n",
       "Content Rating              \n",
       "Everyone         52179353961\n",
       "Teen             16487275393\n",
       "Everyone 10+      4016271795\n",
       "Mature 17+        2437986878\n",
       "Adults only 18+      2000000\n",
       "Unrated                50500"
      ]
     },
     "execution_count": 38,
     "metadata": {},
     "output_type": "execute_result"
    }
   ],
   "source": [
    "content_rating_installs = content_rating_df[[\"Installs\"]].sum()\n",
    "sorted_content = content_rating_installs.sort_values(\"Installs\",ascending=False)\n",
    "sorted_content"
   ]
  },
  {
   "cell_type": "markdown",
   "metadata": {},
   "source": [
    "Now we sum all the installations of each of all the apps in each content rating and sort them in descending order. To visualize the results using a bar plot, we use the ```sns.barplot()``` method, specify the x and y axes column names for the plot and give the DataFrame to be plotted. We also specify the title for the plot using the ```plt.title()``` method and x and y axes labels using the ```plt.xlabel()``` and ```plt.ylabel()``` methods."
   ]
  },
  {
   "cell_type": "code",
   "execution_count": 39,
   "metadata": {},
   "outputs": [
    {
     "data": {
      "image/png": "[encoded data removed]",
      "text/plain": [
       "<Figure size 720x360 with 1 Axes>"
      ]
     },
     "metadata": {},
     "output_type": "display_data"
    }
   ],
   "source": [
    "plt.figure(figsize=(10,5))\n",
    "sns.barplot(\"Installs\",sorted_content.index,data=sorted_content)\n",
    "plt.title(\"Bar plot of No. of installs based on the Content Rating\")\n",
    "plt.xlabel(\"No. of Installations\")\n",
    "plt.ylabel(\"Content Rating\");"
   ]
  },
  {
   "cell_type": "markdown",
   "metadata": {},
   "source": [
    "The apps that are meant for ```Everyone``` has the most number of installs comapred to the others. This can be verified using both the dataframe printed above as well as from the bar plot.<br><br>\n",
    "The bars for ```Adults only 18+``` and ```Unrated``` are not visible because the number of installations for these Content Ratings are ver low compared to other Content Ratings. This can be confirmed using the table above."
   ]
  },
  {
   "cell_type": "markdown",
   "metadata": {},
   "source": [
    "<b>10. Which app category has the maximum number of apps?</b>"
   ]
  },
  {
   "cell_type": "code",
   "execution_count": 40,
   "metadata": {},
   "outputs": [],
   "source": [
    "app_category_group = apps_df.groupby(\"Category\")"
   ]
  },
  {
   "cell_type": "markdown",
   "metadata": {},
   "source": [
    "We again group the DataFrame by the Category column."
   ]
  },
  {
   "cell_type": "code",
   "execution_count": 41,
   "metadata": {},
   "outputs": [
    {
     "data": {
      "text/html": [
       "<div>\n",
       "<style scoped>\n",
       "    .dataframe tbody tr th:only-of-type {\n",
       "        vertical-align: middle;\n",
       "    }\n",
       "\n",
       "    .dataframe tbody tr th {\n",
       "        vertical-align: top;\n",
       "    }\n",
       "\n",
       "    .dataframe thead th {\n",
       "        text-align: right;\n",
       "    }\n",
       "</style>\n",
       "<table border=\"1\" class=\"dataframe\">\n",
       "  <thead>\n",
       "    <tr style=\"text-align: right;\">\n",
       "      <th></th>\n",
       "      <th>App</th>\n",
       "    </tr>\n",
       "    <tr>\n",
       "      <th>Category</th>\n",
       "      <th></th>\n",
       "    </tr>\n",
       "  </thead>\n",
       "  <tbody>\n",
       "    <tr>\n",
       "      <th>FAMILY</th>\n",
       "      <td>1832</td>\n",
       "    </tr>\n",
       "    <tr>\n",
       "      <th>GAME</th>\n",
       "      <td>959</td>\n",
       "    </tr>\n",
       "    <tr>\n",
       "      <th>TOOLS</th>\n",
       "      <td>827</td>\n",
       "    </tr>\n",
       "    <tr>\n",
       "      <th>BUSINESS</th>\n",
       "      <td>420</td>\n",
       "    </tr>\n",
       "    <tr>\n",
       "      <th>MEDICAL</th>\n",
       "      <td>395</td>\n",
       "    </tr>\n",
       "    <tr>\n",
       "      <th>PERSONALIZATION</th>\n",
       "      <td>376</td>\n",
       "    </tr>\n",
       "    <tr>\n",
       "      <th>PRODUCTIVITY</th>\n",
       "      <td>374</td>\n",
       "    </tr>\n",
       "    <tr>\n",
       "      <th>LIFESTYLE</th>\n",
       "      <td>370</td>\n",
       "    </tr>\n",
       "    <tr>\n",
       "      <th>FINANCE</th>\n",
       "      <td>345</td>\n",
       "    </tr>\n",
       "    <tr>\n",
       "      <th>SPORTS</th>\n",
       "      <td>325</td>\n",
       "    </tr>\n",
       "  </tbody>\n",
       "</table>\n",
       "</div>"
      ],
      "text/plain": [
       "                  App\n",
       "Category             \n",
       "FAMILY           1832\n",
       "GAME              959\n",
       "TOOLS             827\n",
       "BUSINESS          420\n",
       "MEDICAL           395\n",
       "PERSONALIZATION   376\n",
       "PRODUCTIVITY      374\n",
       "LIFESTYLE         370\n",
       "FINANCE           345\n",
       "SPORTS            325"
      ]
     },
     "execution_count": 41,
     "metadata": {},
     "output_type": "execute_result"
    }
   ],
   "source": [
    "app_count = app_category_group[[\"App\"]].count()\n",
    "sorted_app_count = app_count.sort_values(\"App\",ascending=False)\n",
    "sorted_app_count.head(10)"
   ]
  },
  {
   "cell_type": "markdown",
   "metadata": {},
   "source": [
    "Here, we apply the ```.count()``` method on the ```App``` column to get the total count of apps present in a given Category and sort the values in descending order."
   ]
  },
  {
   "cell_type": "code",
   "execution_count": 42,
   "metadata": {},
   "outputs": [
    {
     "data": {
      "image/png": "[encoded data removed]",
      "text/plain": [
       "<Figure size 720x720 with 1 Axes>"
      ]
     },
     "metadata": {},
     "output_type": "display_data"
    }
   ],
   "source": [
    "plt.figure(figsize=(10,10))\n",
    "sns.barplot(\"App\",sorted_app_count.index,data=sorted_app_count)\n",
    "plt.title(\"Bar plot of Number of apps in each category\")\n",
    "plt.xlabel(\"No. of Apps\")\n",
    "plt.ylabel(\"Category\");"
   ]
  },
  {
   "cell_type": "markdown",
   "metadata": {},
   "source": [
    "We also visualize the results using a bar plot using the ```sns.barplot()``` method and pass the x and y axes columns. We then pass the DataFrame to be plotted. title for the plot is specified using the ```plt.title()``` method and x and y axes labels are specified using the ```plt.xlabel()``` and ```plt.ylabel()``` methods.\n",
    "\n",
    "From the above table and bar plot We can see that the ```FAMILY``` category has the most number of apps followed be ```GAME``` and ```TOOLS```."
   ]
  },
  {
   "cell_type": "markdown",
   "metadata": {},
   "source": [
    "<b>11. Which Content Rating has the maximum number of apps?</b>"
   ]
  },
  {
   "cell_type": "code",
   "execution_count": 43,
   "metadata": {},
   "outputs": [],
   "source": [
    "app_contentr_group = apps_df.groupby(\"Content Rating\")"
   ]
  },
  {
   "cell_type": "markdown",
   "metadata": {},
   "source": [
    "First we group the DataFrame by the Content Rating column."
   ]
  },
  {
   "cell_type": "code",
   "execution_count": 44,
   "metadata": {},
   "outputs": [
    {
     "data": {
      "text/html": [
       "<div>\n",
       "<style scoped>\n",
       "    .dataframe tbody tr th:only-of-type {\n",
       "        vertical-align: middle;\n",
       "    }\n",
       "\n",
       "    .dataframe tbody tr th {\n",
       "        vertical-align: top;\n",
       "    }\n",
       "\n",
       "    .dataframe thead th {\n",
       "        text-align: right;\n",
       "    }\n",
       "</style>\n",
       "<table border=\"1\" class=\"dataframe\">\n",
       "  <thead>\n",
       "    <tr style=\"text-align: right;\">\n",
       "      <th></th>\n",
       "      <th>App</th>\n",
       "    </tr>\n",
       "    <tr>\n",
       "      <th>Content Rating</th>\n",
       "      <th></th>\n",
       "    </tr>\n",
       "  </thead>\n",
       "  <tbody>\n",
       "    <tr>\n",
       "      <th>Everyone</th>\n",
       "      <td>7904</td>\n",
       "    </tr>\n",
       "    <tr>\n",
       "      <th>Teen</th>\n",
       "      <td>1036</td>\n",
       "    </tr>\n",
       "    <tr>\n",
       "      <th>Mature 17+</th>\n",
       "      <td>393</td>\n",
       "    </tr>\n",
       "    <tr>\n",
       "      <th>Everyone 10+</th>\n",
       "      <td>322</td>\n",
       "    </tr>\n",
       "    <tr>\n",
       "      <th>Adults only 18+</th>\n",
       "      <td>3</td>\n",
       "    </tr>\n",
       "    <tr>\n",
       "      <th>Unrated</th>\n",
       "      <td>2</td>\n",
       "    </tr>\n",
       "  </tbody>\n",
       "</table>\n",
       "</div>"
      ],
      "text/plain": [
       "                  App\n",
       "Content Rating       \n",
       "Everyone         7904\n",
       "Teen             1036\n",
       "Mature 17+        393\n",
       "Everyone 10+      322\n",
       "Adults only 18+     3\n",
       "Unrated             2"
      ]
     },
     "execution_count": 44,
     "metadata": {},
     "output_type": "execute_result"
    }
   ],
   "source": [
    "contentr_app_count = app_contentr_group[[\"App\"]].count()\n",
    "sorted_contentr_count = contentr_app_count.sort_values(\"App\",ascending=False)\n",
    "sorted_contentr_count.head(10)"
   ]
  },
  {
   "cell_type": "markdown",
   "metadata": {},
   "source": [
    "Here, we apply the ```.count()``` method on the ```App``` column to get the total count of apps present in each Content Rating and then sort the values in descending order."
   ]
  },
  {
   "cell_type": "code",
   "execution_count": 45,
   "metadata": {},
   "outputs": [
    {
     "data": {
      "image/png": "[encoded data removed]",
      "text/plain": [
       "<Figure size 432x288 with 1 Axes>"
      ]
     },
     "metadata": {},
     "output_type": "display_data"
    }
   ],
   "source": [
    "sns.barplot(\"App\",sorted_contentr_count.index,data=sorted_contentr_count)\n",
    "plt.title(\"Bar plot of No. of Apps in each Content Rating\")\n",
    "plt.xlabel(\"No. of Apps\")\n",
    "plt.ylabel(\"Content Rating\");"
   ]
  },
  {
   "cell_type": "markdown",
   "metadata": {},
   "source": [
    "We now use bar plots to visualize the results. We use the ```sns.barplot()``` method and pass the x and y axes columns. We then pass the DataFrame to be plotted. Title for the plot is specified using the ```plt.title()``` method and x and y axes labels are specified using the ```plt.xlabel()``` and ```plt.ylabel()``` methods.\n",
    "\n",
    "From the above table and plot, we can see that the ```Everyone``` content rating has the maximum number of apps."
   ]
  },
  {
   "cell_type": "markdown",
   "metadata": {},
   "source": [
    "<b>12. How many apps were updated after August 2018?</b>"
   ]
  },
  {
   "cell_type": "code",
   "execution_count": 46,
   "metadata": {},
   "outputs": [
    {
     "data": {
      "text/html": [
       "<div>\n",
       "<style scoped>\n",
       "    .dataframe tbody tr th:only-of-type {\n",
       "        vertical-align: middle;\n",
       "    }\n",
       "\n",
       "    .dataframe tbody tr th {\n",
       "        vertical-align: top;\n",
       "    }\n",
       "\n",
       "    .dataframe thead th {\n",
       "        text-align: right;\n",
       "    }\n",
       "</style>\n",
       "<table border=\"1\" class=\"dataframe\">\n",
       "  <thead>\n",
       "    <tr style=\"text-align: right;\">\n",
       "      <th></th>\n",
       "      <th>App</th>\n",
       "      <th>Category</th>\n",
       "      <th>Rating</th>\n",
       "      <th>Reviews</th>\n",
       "      <th>Size</th>\n",
       "      <th>Installs</th>\n",
       "      <th>Type</th>\n",
       "      <th>Price</th>\n",
       "      <th>Content Rating</th>\n",
       "      <th>Last Updated</th>\n",
       "    </tr>\n",
       "  </thead>\n",
       "  <tbody>\n",
       "    <tr>\n",
       "      <th>14</th>\n",
       "      <td>3D Color Pixel by Number - Sandbox Art Coloring</td>\n",
       "      <td>ART_AND_DESIGN</td>\n",
       "      <td>4.4</td>\n",
       "      <td>1518</td>\n",
       "      <td>37M</td>\n",
       "      <td>100000</td>\n",
       "      <td>Free</td>\n",
       "      <td>0.00</td>\n",
       "      <td>Everyone</td>\n",
       "      <td>2018-08-03</td>\n",
       "    </tr>\n",
       "    <tr>\n",
       "      <th>18</th>\n",
       "      <td>FlipaClip - Cartoon animation</td>\n",
       "      <td>ART_AND_DESIGN</td>\n",
       "      <td>4.3</td>\n",
       "      <td>194216</td>\n",
       "      <td>39M</td>\n",
       "      <td>5000000</td>\n",
       "      <td>Free</td>\n",
       "      <td>0.00</td>\n",
       "      <td>Everyone</td>\n",
       "      <td>2018-08-03</td>\n",
       "    </tr>\n",
       "    <tr>\n",
       "      <th>36</th>\n",
       "      <td>UNICORN - Color By Number &amp; Pixel Art Coloring</td>\n",
       "      <td>ART_AND_DESIGN</td>\n",
       "      <td>4.7</td>\n",
       "      <td>8145</td>\n",
       "      <td>24M</td>\n",
       "      <td>500000</td>\n",
       "      <td>Free</td>\n",
       "      <td>0.00</td>\n",
       "      <td>Everyone</td>\n",
       "      <td>2018-08-02</td>\n",
       "    </tr>\n",
       "    <tr>\n",
       "      <th>70</th>\n",
       "      <td>Fines of the State Traffic Safety Inspectorate...</td>\n",
       "      <td>AUTO_AND_VEHICLES</td>\n",
       "      <td>4.8</td>\n",
       "      <td>116986</td>\n",
       "      <td>35M</td>\n",
       "      <td>5000000</td>\n",
       "      <td>Free</td>\n",
       "      <td>0.00</td>\n",
       "      <td>Everyone</td>\n",
       "      <td>2018-08-02</td>\n",
       "    </tr>\n",
       "    <tr>\n",
       "      <th>71</th>\n",
       "      <td>SK Enca Direct Malls - Used Cars Search</td>\n",
       "      <td>AUTO_AND_VEHICLES</td>\n",
       "      <td>3.6</td>\n",
       "      <td>1379</td>\n",
       "      <td>16M</td>\n",
       "      <td>500000</td>\n",
       "      <td>Free</td>\n",
       "      <td>0.00</td>\n",
       "      <td>Everyone</td>\n",
       "      <td>2018-08-02</td>\n",
       "    </tr>\n",
       "    <tr>\n",
       "      <th>...</th>\n",
       "      <td>...</td>\n",
       "      <td>...</td>\n",
       "      <td>...</td>\n",
       "      <td>...</td>\n",
       "      <td>...</td>\n",
       "      <td>...</td>\n",
       "      <td>...</td>\n",
       "      <td>...</td>\n",
       "      <td>...</td>\n",
       "      <td>...</td>\n",
       "    </tr>\n",
       "    <tr>\n",
       "      <th>10760</th>\n",
       "      <td>Fast Tract Diet</td>\n",
       "      <td>HEALTH_AND_FITNESS</td>\n",
       "      <td>4.4</td>\n",
       "      <td>35</td>\n",
       "      <td>2.4M</td>\n",
       "      <td>1000</td>\n",
       "      <td>Paid</td>\n",
       "      <td>7.99</td>\n",
       "      <td>Everyone</td>\n",
       "      <td>2018-08-08</td>\n",
       "    </tr>\n",
       "    <tr>\n",
       "      <th>10790</th>\n",
       "      <td>HipChat - beta version</td>\n",
       "      <td>COMMUNICATION</td>\n",
       "      <td>4.1</td>\n",
       "      <td>1035</td>\n",
       "      <td>20M</td>\n",
       "      <td>50000</td>\n",
       "      <td>Free</td>\n",
       "      <td>0.00</td>\n",
       "      <td>Everyone</td>\n",
       "      <td>2018-08-07</td>\n",
       "    </tr>\n",
       "    <tr>\n",
       "      <th>10803</th>\n",
       "      <td>Fatal Raid - No.1 Mobile FPS</td>\n",
       "      <td>GAME</td>\n",
       "      <td>4.3</td>\n",
       "      <td>56496</td>\n",
       "      <td>81M</td>\n",
       "      <td>1000000</td>\n",
       "      <td>Free</td>\n",
       "      <td>0.00</td>\n",
       "      <td>Teen</td>\n",
       "      <td>2018-08-07</td>\n",
       "    </tr>\n",
       "    <tr>\n",
       "      <th>10805</th>\n",
       "      <td>Scoreboard FR</td>\n",
       "      <td>LIFESTYLE</td>\n",
       "      <td>4.3</td>\n",
       "      <td>3</td>\n",
       "      <td>15M</td>\n",
       "      <td>100</td>\n",
       "      <td>Free</td>\n",
       "      <td>0.00</td>\n",
       "      <td>Everyone</td>\n",
       "      <td>2018-08-07</td>\n",
       "    </tr>\n",
       "    <tr>\n",
       "      <th>10816</th>\n",
       "      <td>FieldBi FR Offline</td>\n",
       "      <td>BUSINESS</td>\n",
       "      <td>0.0</td>\n",
       "      <td>2</td>\n",
       "      <td>6.8M</td>\n",
       "      <td>100</td>\n",
       "      <td>Free</td>\n",
       "      <td>0.00</td>\n",
       "      <td>Everyone</td>\n",
       "      <td>2018-08-06</td>\n",
       "    </tr>\n",
       "  </tbody>\n",
       "</table>\n",
       "<p>768 rows × 10 columns</p>\n",
       "</div>"
      ],
      "text/plain": [
       "                                                     App            Category  \\\n",
       "14       3D Color Pixel by Number - Sandbox Art Coloring      ART_AND_DESIGN   \n",
       "18                         FlipaClip - Cartoon animation      ART_AND_DESIGN   \n",
       "36        UNICORN - Color By Number & Pixel Art Coloring      ART_AND_DESIGN   \n",
       "70     Fines of the State Traffic Safety Inspectorate...   AUTO_AND_VEHICLES   \n",
       "71               SK Enca Direct Malls - Used Cars Search   AUTO_AND_VEHICLES   \n",
       "...                                                  ...                 ...   \n",
       "10760                                    Fast Tract Diet  HEALTH_AND_FITNESS   \n",
       "10790                             HipChat - beta version       COMMUNICATION   \n",
       "10803                       Fatal Raid - No.1 Mobile FPS                GAME   \n",
       "10805                                      Scoreboard FR           LIFESTYLE   \n",
       "10816                                 FieldBi FR Offline            BUSINESS   \n",
       "\n",
       "       Rating  Reviews  Size  Installs  Type  Price Content Rating  \\\n",
       "14        4.4     1518   37M    100000  Free   0.00       Everyone   \n",
       "18        4.3   194216   39M   5000000  Free   0.00       Everyone   \n",
       "36        4.7     8145   24M    500000  Free   0.00       Everyone   \n",
       "70        4.8   116986   35M   5000000  Free   0.00       Everyone   \n",
       "71        3.6     1379   16M    500000  Free   0.00       Everyone   \n",
       "...       ...      ...   ...       ...   ...    ...            ...   \n",
       "10760     4.4       35  2.4M      1000  Paid   7.99       Everyone   \n",
       "10790     4.1     1035   20M     50000  Free   0.00       Everyone   \n",
       "10803     4.3    56496   81M   1000000  Free   0.00           Teen   \n",
       "10805     4.3        3   15M       100  Free   0.00       Everyone   \n",
       "10816     0.0        2  6.8M       100  Free   0.00       Everyone   \n",
       "\n",
       "      Last Updated  \n",
       "14      2018-08-03  \n",
       "18      2018-08-03  \n",
       "36      2018-08-02  \n",
       "70      2018-08-02  \n",
       "71      2018-08-02  \n",
       "...            ...  \n",
       "10760   2018-08-08  \n",
       "10790   2018-08-07  \n",
       "10803   2018-08-07  \n",
       "10805   2018-08-07  \n",
       "10816   2018-08-06  \n",
       "\n",
       "[768 rows x 10 columns]"
      ]
     },
     "execution_count": 46,
     "metadata": {},
     "output_type": "execute_result"
    }
   ],
   "source": [
    "deadline = pd.to_datetime(\"Aug 2018\")\n",
    "apps_updated = apps_df[apps_df[\"Last Updated\"]>deadline]\n",
    "apps_updated"
   ]
  },
  {
   "cell_type": "markdown",
   "metadata": {},
   "source": [
    "First we create a variable called ```deadline```. This variable is the is a pandas datetime object. We use this object to create a boolean masking on our dataset to get the apps that were updated after August 2018.\n",
    "\n",
    "Using the ```.shape``` attribute, we can see that there are 768 apps that were updated to a newer version after August 2018."
   ]
  },
  {
   "cell_type": "code",
   "execution_count": 47,
   "metadata": {},
   "outputs": [
    {
     "name": "stdout",
     "output_type": "stream",
     "text": [
      "There are 768 apps that were updated after August 2018.\n"
     ]
    }
   ],
   "source": [
    "print(f\"There are {apps_updated.shape[0]} apps that were updated after August 2018.\")"
   ]
  },
  {
   "cell_type": "markdown",
   "metadata": {},
   "source": [
    "<b>13. Which app category has the highest user Rating?</b>"
   ]
  },
  {
   "cell_type": "code",
   "execution_count": 48,
   "metadata": {},
   "outputs": [],
   "source": [
    "category_group = apps_df.groupby(\"Category\")"
   ]
  },
  {
   "cell_type": "markdown",
   "metadata": {},
   "source": [
    "We first group the DataFrame by the Category using the ```.groupby()``` method."
   ]
  },
  {
   "cell_type": "code",
   "execution_count": 49,
   "metadata": {},
   "outputs": [],
   "source": [
    "mean_ratings = category_group[[\"Rating\"]].mean()"
   ]
  },
  {
   "cell_type": "markdown",
   "metadata": {},
   "source": [
    "We then calculate the mean ratings for each Category. using the ```.mean()``` method. "
   ]
  },
  {
   "cell_type": "code",
   "execution_count": 50,
   "metadata": {},
   "outputs": [
    {
     "data": {
      "text/html": [
       "<div>\n",
       "<style scoped>\n",
       "    .dataframe tbody tr th:only-of-type {\n",
       "        vertical-align: middle;\n",
       "    }\n",
       "\n",
       "    .dataframe tbody tr th {\n",
       "        vertical-align: top;\n",
       "    }\n",
       "\n",
       "    .dataframe thead th {\n",
       "        text-align: right;\n",
       "    }\n",
       "</style>\n",
       "<table border=\"1\" class=\"dataframe\">\n",
       "  <thead>\n",
       "    <tr style=\"text-align: right;\">\n",
       "      <th></th>\n",
       "      <th>Rating</th>\n",
       "    </tr>\n",
       "    <tr>\n",
       "      <th>Category</th>\n",
       "      <th></th>\n",
       "    </tr>\n",
       "  </thead>\n",
       "  <tbody>\n",
       "    <tr>\n",
       "      <th>EDUCATION</th>\n",
       "      <td>4.327731</td>\n",
       "    </tr>\n",
       "    <tr>\n",
       "      <th>ART_AND_DESIGN</th>\n",
       "      <td>4.153125</td>\n",
       "    </tr>\n",
       "    <tr>\n",
       "      <th>ENTERTAINMENT</th>\n",
       "      <td>4.135294</td>\n",
       "    </tr>\n",
       "    <tr>\n",
       "      <th>GAME</th>\n",
       "      <td>4.039208</td>\n",
       "    </tr>\n",
       "    <tr>\n",
       "      <th>COMICS</th>\n",
       "      <td>4.032143</td>\n",
       "    </tr>\n",
       "  </tbody>\n",
       "</table>\n",
       "</div>"
      ],
      "text/plain": [
       "                  Rating\n",
       "Category                \n",
       "EDUCATION       4.327731\n",
       "ART_AND_DESIGN  4.153125\n",
       "ENTERTAINMENT   4.135294\n",
       "GAME            4.039208\n",
       "COMICS          4.032143"
      ]
     },
     "execution_count": 50,
     "metadata": {},
     "output_type": "execute_result"
    }
   ],
   "source": [
    "sorted_mean_ratings = mean_ratings.sort_values(\"Rating\",ascending=False)\n",
    "sorted_mean_ratings.head()"
   ]
  },
  {
   "cell_type": "markdown",
   "metadata": {},
   "source": [
    "We sort the values in descending order based on the app's rating."
   ]
  },
  {
   "cell_type": "code",
   "execution_count": 51,
   "metadata": {},
   "outputs": [
    {
     "data": {
      "image/png": "[encoded data removed]",
      "text/plain": [
       "<Figure size 1080x720 with 1 Axes>"
      ]
     },
     "metadata": {},
     "output_type": "display_data"
    }
   ],
   "source": [
    "plt.figure(figsize=(15,10))\n",
    "sns.barplot(\"Rating\",sorted_mean_ratings.index,data=sorted_mean_ratings);\n",
    "plt.title(\"Bar plot of the avg. Ratings of apps in each Category\");"
   ]
  },
  {
   "cell_type": "markdown",
   "metadata": {},
   "source": [
    "We can also visualize this result using the a bar plot. We use the ```sns.barplot()``` method and pass in the x and y columns for the plot and specify the DataFrame that needs to be plotted. We also set the title for the plot using ```plt.title()``` method.\n",
    "\n",
    "It is clear from the DataFrame and the bar chart above that the app category called ```Education``` has the highest average ratings."
   ]
  },
  {
   "cell_type": "markdown",
   "metadata": {},
   "source": [
    "<b>14. On what day of the week were most of the apps updated?</b>"
   ]
  },
  {
   "cell_type": "code",
   "execution_count": 52,
   "metadata": {},
   "outputs": [
    {
     "data": {
      "text/html": [
       "<div>\n",
       "<style scoped>\n",
       "    .dataframe tbody tr th:only-of-type {\n",
       "        vertical-align: middle;\n",
       "    }\n",
       "\n",
       "    .dataframe tbody tr th {\n",
       "        vertical-align: top;\n",
       "    }\n",
       "\n",
       "    .dataframe thead th {\n",
       "        text-align: right;\n",
       "    }\n",
       "</style>\n",
       "<table border=\"1\" class=\"dataframe\">\n",
       "  <thead>\n",
       "    <tr style=\"text-align: right;\">\n",
       "      <th></th>\n",
       "      <th>App</th>\n",
       "      <th>Category</th>\n",
       "      <th>Rating</th>\n",
       "      <th>Reviews</th>\n",
       "      <th>Size</th>\n",
       "      <th>Installs</th>\n",
       "      <th>Type</th>\n",
       "      <th>Price</th>\n",
       "      <th>Content Rating</th>\n",
       "      <th>Last Updated</th>\n",
       "      <th>Update day</th>\n",
       "    </tr>\n",
       "  </thead>\n",
       "  <tbody>\n",
       "    <tr>\n",
       "      <th>0</th>\n",
       "      <td>Photo Editor &amp; Candy Camera &amp; Grid &amp; ScrapBook</td>\n",
       "      <td>ART_AND_DESIGN</td>\n",
       "      <td>4.1</td>\n",
       "      <td>159</td>\n",
       "      <td>19M</td>\n",
       "      <td>10000</td>\n",
       "      <td>Free</td>\n",
       "      <td>0.0</td>\n",
       "      <td>Everyone</td>\n",
       "      <td>2018-01-07</td>\n",
       "      <td>Sunday</td>\n",
       "    </tr>\n",
       "    <tr>\n",
       "      <th>1</th>\n",
       "      <td>Coloring book moana</td>\n",
       "      <td>ART_AND_DESIGN</td>\n",
       "      <td>3.9</td>\n",
       "      <td>967</td>\n",
       "      <td>14M</td>\n",
       "      <td>500000</td>\n",
       "      <td>Free</td>\n",
       "      <td>0.0</td>\n",
       "      <td>Everyone</td>\n",
       "      <td>2018-01-15</td>\n",
       "      <td>Monday</td>\n",
       "    </tr>\n",
       "    <tr>\n",
       "      <th>2</th>\n",
       "      <td>U Launcher Lite – FREE Live Cool Themes, Hide ...</td>\n",
       "      <td>ART_AND_DESIGN</td>\n",
       "      <td>4.7</td>\n",
       "      <td>87510</td>\n",
       "      <td>8.7M</td>\n",
       "      <td>5000000</td>\n",
       "      <td>Free</td>\n",
       "      <td>0.0</td>\n",
       "      <td>Everyone</td>\n",
       "      <td>2018-08-01</td>\n",
       "      <td>Wednesday</td>\n",
       "    </tr>\n",
       "    <tr>\n",
       "      <th>3</th>\n",
       "      <td>Sketch - Draw &amp; Paint</td>\n",
       "      <td>ART_AND_DESIGN</td>\n",
       "      <td>4.5</td>\n",
       "      <td>215644</td>\n",
       "      <td>25M</td>\n",
       "      <td>50000000</td>\n",
       "      <td>Free</td>\n",
       "      <td>0.0</td>\n",
       "      <td>Teen</td>\n",
       "      <td>2018-06-08</td>\n",
       "      <td>Friday</td>\n",
       "    </tr>\n",
       "    <tr>\n",
       "      <th>4</th>\n",
       "      <td>Pixel Draw - Number Art Coloring Book</td>\n",
       "      <td>ART_AND_DESIGN</td>\n",
       "      <td>4.3</td>\n",
       "      <td>967</td>\n",
       "      <td>2.8M</td>\n",
       "      <td>100000</td>\n",
       "      <td>Free</td>\n",
       "      <td>0.0</td>\n",
       "      <td>Everyone</td>\n",
       "      <td>2018-06-20</td>\n",
       "      <td>Wednesday</td>\n",
       "    </tr>\n",
       "    <tr>\n",
       "      <th>...</th>\n",
       "      <td>...</td>\n",
       "      <td>...</td>\n",
       "      <td>...</td>\n",
       "      <td>...</td>\n",
       "      <td>...</td>\n",
       "      <td>...</td>\n",
       "      <td>...</td>\n",
       "      <td>...</td>\n",
       "      <td>...</td>\n",
       "      <td>...</td>\n",
       "      <td>...</td>\n",
       "    </tr>\n",
       "    <tr>\n",
       "      <th>10836</th>\n",
       "      <td>Sya9a Maroc - FR</td>\n",
       "      <td>FAMILY</td>\n",
       "      <td>4.5</td>\n",
       "      <td>38</td>\n",
       "      <td>53M</td>\n",
       "      <td>5000</td>\n",
       "      <td>Free</td>\n",
       "      <td>0.0</td>\n",
       "      <td>Everyone</td>\n",
       "      <td>2017-07-25</td>\n",
       "      <td>Tuesday</td>\n",
       "    </tr>\n",
       "    <tr>\n",
       "      <th>10837</th>\n",
       "      <td>Fr. Mike Schmitz Audio Teachings</td>\n",
       "      <td>FAMILY</td>\n",
       "      <td>5.0</td>\n",
       "      <td>4</td>\n",
       "      <td>3.6M</td>\n",
       "      <td>100</td>\n",
       "      <td>Free</td>\n",
       "      <td>0.0</td>\n",
       "      <td>Everyone</td>\n",
       "      <td>2018-07-06</td>\n",
       "      <td>Friday</td>\n",
       "    </tr>\n",
       "    <tr>\n",
       "      <th>10838</th>\n",
       "      <td>Parkinson Exercices FR</td>\n",
       "      <td>MEDICAL</td>\n",
       "      <td>0.0</td>\n",
       "      <td>3</td>\n",
       "      <td>9.5M</td>\n",
       "      <td>1000</td>\n",
       "      <td>Free</td>\n",
       "      <td>0.0</td>\n",
       "      <td>Everyone</td>\n",
       "      <td>2017-01-20</td>\n",
       "      <td>Friday</td>\n",
       "    </tr>\n",
       "    <tr>\n",
       "      <th>10839</th>\n",
       "      <td>The SCP Foundation DB fr nn5n</td>\n",
       "      <td>BOOKS_AND_REFERENCE</td>\n",
       "      <td>4.5</td>\n",
       "      <td>114</td>\n",
       "      <td>Varies with device</td>\n",
       "      <td>1000</td>\n",
       "      <td>Free</td>\n",
       "      <td>0.0</td>\n",
       "      <td>Mature 17+</td>\n",
       "      <td>2015-01-19</td>\n",
       "      <td>Monday</td>\n",
       "    </tr>\n",
       "    <tr>\n",
       "      <th>10840</th>\n",
       "      <td>iHoroscope - 2018 Daily Horoscope &amp; Astrology</td>\n",
       "      <td>LIFESTYLE</td>\n",
       "      <td>4.5</td>\n",
       "      <td>398307</td>\n",
       "      <td>19M</td>\n",
       "      <td>10000000</td>\n",
       "      <td>Free</td>\n",
       "      <td>0.0</td>\n",
       "      <td>Everyone</td>\n",
       "      <td>2018-07-25</td>\n",
       "      <td>Wednesday</td>\n",
       "    </tr>\n",
       "  </tbody>\n",
       "</table>\n",
       "<p>9660 rows × 11 columns</p>\n",
       "</div>"
      ],
      "text/plain": [
       "                                                     App             Category  \\\n",
       "0         Photo Editor & Candy Camera & Grid & ScrapBook       ART_AND_DESIGN   \n",
       "1                                    Coloring book moana       ART_AND_DESIGN   \n",
       "2      U Launcher Lite – FREE Live Cool Themes, Hide ...       ART_AND_DESIGN   \n",
       "3                                  Sketch - Draw & Paint       ART_AND_DESIGN   \n",
       "4                  Pixel Draw - Number Art Coloring Book       ART_AND_DESIGN   \n",
       "...                                                  ...                  ...   \n",
       "10836                                   Sya9a Maroc - FR               FAMILY   \n",
       "10837                   Fr. Mike Schmitz Audio Teachings               FAMILY   \n",
       "10838                             Parkinson Exercices FR              MEDICAL   \n",
       "10839                      The SCP Foundation DB fr nn5n  BOOKS_AND_REFERENCE   \n",
       "10840      iHoroscope - 2018 Daily Horoscope & Astrology            LIFESTYLE   \n",
       "\n",
       "       Rating  Reviews                Size  Installs  Type  Price  \\\n",
       "0         4.1      159                 19M     10000  Free    0.0   \n",
       "1         3.9      967                 14M    500000  Free    0.0   \n",
       "2         4.7    87510                8.7M   5000000  Free    0.0   \n",
       "3         4.5   215644                 25M  50000000  Free    0.0   \n",
       "4         4.3      967                2.8M    100000  Free    0.0   \n",
       "...       ...      ...                 ...       ...   ...    ...   \n",
       "10836     4.5       38                 53M      5000  Free    0.0   \n",
       "10837     5.0        4                3.6M       100  Free    0.0   \n",
       "10838     0.0        3                9.5M      1000  Free    0.0   \n",
       "10839     4.5      114  Varies with device      1000  Free    0.0   \n",
       "10840     4.5   398307                 19M  10000000  Free    0.0   \n",
       "\n",
       "      Content Rating Last Updated Update day  \n",
       "0           Everyone   2018-01-07     Sunday  \n",
       "1           Everyone   2018-01-15     Monday  \n",
       "2           Everyone   2018-08-01  Wednesday  \n",
       "3               Teen   2018-06-08     Friday  \n",
       "4           Everyone   2018-06-20  Wednesday  \n",
       "...              ...          ...        ...  \n",
       "10836       Everyone   2017-07-25    Tuesday  \n",
       "10837       Everyone   2018-07-06     Friday  \n",
       "10838       Everyone   2017-01-20     Friday  \n",
       "10839     Mature 17+   2015-01-19     Monday  \n",
       "10840       Everyone   2018-07-25  Wednesday  \n",
       "\n",
       "[9660 rows x 11 columns]"
      ]
     },
     "execution_count": 52,
     "metadata": {},
     "output_type": "execute_result"
    }
   ],
   "source": [
    "apps_df[\"Update day\"] = apps_df[\"Last Updated\"].dt.day_name()\n",
    "apps_df"
   ]
  },
  {
   "cell_type": "markdown",
   "metadata": {},
   "source": [
    "First we create a new column in the DataFrame called ```Update day```. This will hold the name of the week day when the app was updated. This is done using the ```.dt.day_name()``` method."
   ]
  },
  {
   "cell_type": "code",
   "execution_count": 53,
   "metadata": {},
   "outputs": [],
   "source": [
    "apps_day_group = apps_df.groupby(\"Update day\")"
   ]
  },
  {
   "cell_type": "markdown",
   "metadata": {},
   "source": [
    "We now group the DataFrame by the ```Update day``` column that we created above."
   ]
  },
  {
   "cell_type": "code",
   "execution_count": 54,
   "metadata": {},
   "outputs": [
    {
     "data": {
      "text/html": [
       "<div>\n",
       "<style scoped>\n",
       "    .dataframe tbody tr th:only-of-type {\n",
       "        vertical-align: middle;\n",
       "    }\n",
       "\n",
       "    .dataframe tbody tr th {\n",
       "        vertical-align: top;\n",
       "    }\n",
       "\n",
       "    .dataframe thead th {\n",
       "        text-align: right;\n",
       "    }\n",
       "</style>\n",
       "<table border=\"1\" class=\"dataframe\">\n",
       "  <thead>\n",
       "    <tr style=\"text-align: right;\">\n",
       "      <th></th>\n",
       "      <th>App</th>\n",
       "    </tr>\n",
       "    <tr>\n",
       "      <th>Update day</th>\n",
       "      <th></th>\n",
       "    </tr>\n",
       "  </thead>\n",
       "  <tbody>\n",
       "    <tr>\n",
       "      <th>Thursday</th>\n",
       "      <td>1754</td>\n",
       "    </tr>\n",
       "    <tr>\n",
       "      <th>Wednesday</th>\n",
       "      <td>1707</td>\n",
       "    </tr>\n",
       "    <tr>\n",
       "      <th>Tuesday</th>\n",
       "      <td>1696</td>\n",
       "    </tr>\n",
       "    <tr>\n",
       "      <th>Friday</th>\n",
       "      <td>1614</td>\n",
       "    </tr>\n",
       "    <tr>\n",
       "      <th>Monday</th>\n",
       "      <td>1568</td>\n",
       "    </tr>\n",
       "    <tr>\n",
       "      <th>Saturday</th>\n",
       "      <td>710</td>\n",
       "    </tr>\n",
       "    <tr>\n",
       "      <th>Sunday</th>\n",
       "      <td>611</td>\n",
       "    </tr>\n",
       "  </tbody>\n",
       "</table>\n",
       "</div>"
      ],
      "text/plain": [
       "             App\n",
       "Update day      \n",
       "Thursday    1754\n",
       "Wednesday   1707\n",
       "Tuesday     1696\n",
       "Friday      1614\n",
       "Monday      1568\n",
       "Saturday     710\n",
       "Sunday       611"
      ]
     },
     "execution_count": 54,
     "metadata": {},
     "output_type": "execute_result"
    }
   ],
   "source": [
    "apps_day_count = apps_day_group[[\"App\"]].count()\n",
    "sorted_apps_day_count = apps_day_count.sort_values(\"App\", ascending = False)\n",
    "sorted_apps_day_count"
   ]
  },
  {
   "cell_type": "markdown",
   "metadata": {},
   "source": [
    "Here, we first count the number of apps updated on each day using the ```.count()``` method on the Apps column of the groupby object. We then sort the app count in descending order.\n",
    "\n",
    "We can also visualize the results using a pie chart. We use the ```plt.pie()``` method to create a pie chart of the count of apps updated on each day. we specify the data to be plotted and the labels to be displayed as the first two parameters of this method. The third parameter is used to display the percentage of that value.\n",
    "Title for the plot is specified using the ```plt.title()``` method."
   ]
  },
  {
   "cell_type": "code",
   "execution_count": 55,
   "metadata": {},
   "outputs": [
    {
     "data": {
      "image/png": "[encoded data removed]",
      "text/plain": [
       "<Figure size 432x288 with 1 Axes>"
      ]
     },
     "metadata": {},
     "output_type": "display_data"
    }
   ],
   "source": [
    "plt.pie(sorted_apps_day_count[\"App\"],labels = sorted_apps_day_count.index, autopct='%1.1f%%')\n",
    "plt.title(\"Pie chart of No. of Apps updated on each of the days of the week\");"
   ]
  },
  {
   "cell_type": "markdown",
   "metadata": {},
   "source": [
    "From the DataFrame and the pie chart above, we can see that most of the apps were updated on ```Thursday```."
   ]
  },
  {
   "cell_type": "markdown",
   "metadata": {},
   "source": [
    "<b>15. How many apps were last updated in the year 2017?</b>"
   ]
  },
  {
   "cell_type": "code",
   "execution_count": 56,
   "metadata": {},
   "outputs": [
    {
     "data": {
      "text/plain": [
       "2018    6285\n",
       "2017    1794\n",
       "2016     779\n",
       "2015     449\n",
       "2014     203\n",
       "2013     108\n",
       "2012      26\n",
       "2011      15\n",
       "2010       1\n",
       "Name: Last Updated, dtype: int64"
      ]
     },
     "execution_count": 56,
     "metadata": {},
     "output_type": "execute_result"
    }
   ],
   "source": [
    "year_count = apps_df[\"Last Updated\"].dt.year.value_counts()\n",
    "year_count"
   ]
  },
  {
   "cell_type": "markdown",
   "metadata": {},
   "source": [
    "For answering this question, we use the ```.dt.year``` method. This will return the year for a given date. Using the ```.value_counts()``` will give us the count of apps that were last updated in each year."
   ]
  },
  {
   "cell_type": "code",
   "execution_count": 57,
   "metadata": {},
   "outputs": [
    {
     "name": "stdout",
     "output_type": "stream",
     "text": [
      "There are 1794 apps that were last updated in the year 2017.\n"
     ]
    }
   ],
   "source": [
    "print(f\"There are {year_count.loc[2017]} apps that were last updated in the year 2017.\")"
   ]
  },
  {
   "cell_type": "markdown",
   "metadata": {},
   "source": [
    "## Inferences and Conclusion\n",
    "\n",
    "A lot of analysis and visualization were done and a lot of insights were obtained from the data. Also, questions related to the data were asked and answered by doing appropriate manipulations to the dataset."
   ]
  },
  {
   "cell_type": "markdown",
   "metadata": {},
   "source": [
    "<b>Insights from the data: </b>\n",
    "    <ol>\n",
    "        <li>Almost 75 percent of the apps in the playstore are free.<br><br>\n",
    "        <li>The maximum price of some app on playstore is $\\$$400.00, corresponding to an app called ```I'm Rich - Trump Edition```.<br><br>\n",
    "        <li>Most paid apps are economically priced and only a few apps are expensive.<br><br>\n",
    "        <li>Most of the apps in the Play Store has a rating greater than 3. There are also many apps that have a very low rating between 0 and 1 which may correspond to apps that the people did not prefer.<br><br>\n",
    "        <li>Apps that have higher installations also has a higher rating.\n",
    "    </ol>"
   ]
  },
  {
   "cell_type": "markdown",
   "metadata": {},
   "source": [
    "<b>Answers for the Questions asked: </b><br>\n",
    "<ol>\n",
    "<li> How many app Categories are there?<br>\n",
    "ANS: There are 33 different app catrgories.<br><br>\n",
    "    \n",
    "<li> Totally how many apps were installed by people?<br>\n",
    "ANS: At the time of compilation of this dataset, the total number of apps installed by people is 75121360417.<br><br>\n",
    "    \n",
    "<li> Find the number of apps with highest installations.<br>\n",
    "ANS: There are 20 apps which has the highest number of installations of 1000000000.<br><br>\n",
    "\n",
    "<li> Find the number of apps with highest rating.<br>\n",
    "ANS: There are 271 apps with the highest rating of 5.<br><br>\n",
    "\n",
    "<li>  Find the top 10 app categories that have the highest installations.<br>\n",
    "ANS: GAME category had the most number of installations followed by COMMUNICATION, TOOLS, PRODUCTIVITY, SOCIAL, PHOTOGRAPHY, FAMILY, VIDEO_PLAYERS, TRAVEL_AND_LOCAL and NEWS_AND_MAGAZINES.<br><br>\n",
    "\n",
    "<li> Find the top 10 app categories that have the lowest installations.<br>\n",
    "ANS: EVENTS category had the most number of installations followed by BEAUTY, PARENTING, MEDICAL, COMICS, LIBRARIES_AND_DEMO, AUTO_AND_VEHICLES, HOUSE_AND_HOME, ART_AND_DESIGN and DATING.<br><br>\n",
    "\n",
    "<li>  Which app category has the highest number of paid apps?<br>\n",
    "ANS: The category called the FAMILY has the most number of paid apps.<br><br>\n",
    "\n",
    "<li> Which app category has the highest number of free apps?<br>\n",
    "ANS: Again, the FAMILY category has the most number of free apps followed GAME category.<br><br>\n",
    "\n",
    "<li> Which app Content Rating has the most number of installations?<br>\n",
    "ANS: The apps that are meant for Everyone has the most number of installs comapred to the others.<br><br>\n",
    "\n",
    "<li>  Which app category has the maximum number of apps?<br>\n",
    "ANS:  The FAMILY category has the most number of apps followed be GAME and TOOLS.<br><br>\n",
    "\n",
    "<li> Which Content Rating has the maximum number of apps?<br>\n",
    "ANS:  The Everyone content rating has the maximum number of apps.<br><br>\n",
    "\n",
    "<li> How many apps were updated after August 2018?<br>\n",
    "ANS: 768 apps were updated to an newer version after August 2018.<br><br>\n",
    "\n",
    "<li> Which app category has the highest user Rating?<br>\n",
    "ANS: The Education category has the highest average ratings.<br><br>\n",
    "\n",
    "<li> On what day of the week were most of the apps updated?<br>\n",
    "ANS: Most of the apps were updated on Thursday.<br><br>\n",
    "\n",
    "<li> How many apps were last updated in the year 2017?<br>\n",
    "ANS: 1791 apps were last updated in the year 2017.<br><br>"
   ]
  },
  {
   "cell_type": "markdown",
   "metadata": {},
   "source": [
    "## References and Future Work\n",
    "\n",
    "A lot of different questions can also be answered by combining this dataset with the app reviews dataset. This dataset has many individual user reviews for all the apps that are available in this dataset. This dataset can also be found in the same [Kaggle page](https://www.kaggle.com/lava18/google-play-store-apps?select=googleplaystore_user_reviews.csv). Further, many tasks can be framed from this data and simple machine learning and deep learning algorithms can be trained to perform that task. For example, given an app's ratings and the user reviews, we can train a machine learning system that says if the app can be installed or not. "
   ]
  },
  {
   "cell_type": "markdown",
   "metadata": {},
   "source": [
    "Documentation and tutorials for the modules:\n",
    "1. [NumPy Tutorials](http://scipy-lectures.org/intro/numpy/index.html)\n",
    "2. [Pandas Tutorials](https://pandas.pydata.org/pandas-docs/stable/getting_started/tutorials.html)\n",
    "3. [Matplotlib Tutorials](https://matplotlib.org/tutorials/index.html)\n",
    "4. [Seaborn Tutorials](https://seaborn.pydata.org/tutorial.html)"
   ]
  },
  {
   "cell_type": "code",
   "execution_count": null,
   "metadata": {},
   "outputs": [],
   "source": []
  }
 ],
 "metadata": {
  "kernelspec": {
   "display_name": "Python 3",
   "language": "python",
   "name": "python3"
  },
  "language_info": {
   "codemirror_mode": {
    "name": "ipython",
    "version": 3
   },
   "file_extension": ".py",
   "mimetype": "text/x-python",
   "name": "python",
   "nbconvert_exporter": "python",
   "pygments_lexer": "ipython3",
   "version": "3.7.7"
  }
 },
 "nbformat": 4,
 "nbformat_minor": 4
}
